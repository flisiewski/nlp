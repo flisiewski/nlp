{
 "cells": [
  {
   "cell_type": "code",
   "execution_count": 1,
   "metadata": {},
   "outputs": [],
   "source": [
    "FILE_LIST = 'files.p'\n",
    "DATA_DIR = \"/run/media/maciej/Nowy/data/json/\"\n",
    "CHOSEN_YEAR = \"2011\""
   ]
  },
  {
   "cell_type": "code",
   "execution_count": 202,
   "metadata": {},
   "outputs": [],
   "source": [
    "import os, json, pickle, sys, os, glob, time\n",
    "from collections import defaultdict, Counter\n",
    "from urllib.request import urlopen, Request\n",
    "from xml.etree import ElementTree\n",
    "\n",
    "\n",
    "from tqdm import tqdm\n",
    "import regex\n",
    "\n",
    "from clarin import process\n",
    "from visualizations import plot_counter"
   ]
  },
  {
   "cell_type": "code",
   "execution_count": 126,
   "metadata": {},
   "outputs": [
    {
     "name": "stderr",
     "output_type": "stream",
     "text": [
      "100%|██████████| 68/68 [00:01<00:00, 55.16it/s]\n"
     ]
    }
   ],
   "source": [
    "def get_first_k_judgments(k=100):\n",
    "    files = pickle.load(open(FILE_LIST, 'rb'))\n",
    "\n",
    "    total_judgments = []\n",
    "    for file in tqdm(files):\n",
    "        if file.startswith(\"judgment\"):\n",
    "            file_path = os.path.join(DATA_DIR, file)\n",
    "\n",
    "            with open(file_path, 'r') as f:\n",
    "                data = json.load(f)\n",
    "                judgments = [\n",
    "                    (x[\"id\"], x[\"judgmentDate\"]) for x in data[\"items\"] \n",
    "                    if x[\"judgmentDate\"].startswith(CHOSEN_YEAR)\n",
    "                ]\n",
    "            total_judgments += judgments\n",
    "\n",
    "    sorted_by_dates = sorted(total_judgments, key=lambda x: x[1])\n",
    "    ids, _ = zip(*sorted_by_dates)\n",
    "    \n",
    "    return ids[:k]\n",
    "\n",
    "first_100 = get_first_k_judgments()"
   ]
  },
  {
   "cell_type": "code",
   "execution_count": 127,
   "metadata": {},
   "outputs": [
    {
     "name": "stderr",
     "output_type": "stream",
     "text": [
      "100%|██████████| 100/100 [00:00<00:00, 4950.96it/s]\n"
     ]
    }
   ],
   "source": [
    "word_pattern = \"\\p{Letter}+\"\n",
    "\n",
    "def load_data(ids):\n",
    "    total_judgments = []\n",
    "    files = pickle.load(open(FILE_LIST, 'rb'))\n",
    "    \n",
    "    for file in files:\n",
    "        if file.startswith(\"judgment\"):\n",
    "            file_path = os.path.join(DATA_DIR, file)\n",
    "\n",
    "            with open(file_path, 'r') as f:\n",
    "                data = json.load(f)\n",
    "                judgments = [\n",
    "                    x[\"textContent\"] for x in data[\"items\"] \n",
    "                    if x[\"id\"] in ids\n",
    "                ]\n",
    "                \n",
    "            total_judgments += judgments\n",
    "            \n",
    "    filtered_judgments = []\n",
    "    for judgment in tqdm(total_judgments):\n",
    "        judgment = regex.sub(\"<.*?>\", \"\", judgment)\n",
    "        judgment = regex.sub(\"-\\n(\\p{Letter}+)\", r\"\\1\", judgment)\n",
    "        \n",
    "        filtered_judgments.append(judgment)\n",
    "        \n",
    "    \n",
    "    return filtered_judgments\n",
    "\n",
    "judgments = load_data(first_100)"
   ]
  },
  {
   "cell_type": "code",
   "execution_count": null,
   "metadata": {},
   "outputs": [],
   "source": [
    "# processed_judgments = []\n",
    "# for judgment in judgments:\n",
    "#     processed_judgment = process(judgment)\n",
    "#     if processed_judgment:\n",
    "#         processed_judgments.append(processed_judgment)\n",
    "#     else:\n",
    "#         print(processed_judgment)"
   ]
  },
  {
   "cell_type": "code",
   "execution_count": null,
   "metadata": {},
   "outputs": [],
   "source": [
    "# with open('processed.p', 'wb') as f:\n",
    "#     pickle.dump(processed_judgments, f)"
   ]
  },
  {
   "cell_type": "code",
   "execution_count": 205,
   "metadata": {},
   "outputs": [],
   "source": [
    "processed_judgments = pickle.load(open('processed2.p', 'rb'))"
   ]
  },
  {
   "cell_type": "code",
   "execution_count": 206,
   "metadata": {},
   "outputs": [],
   "source": [
    "parsed = [ElementTree.fromstring(xml) for xml in processed_judgments]"
   ]
  },
  {
   "cell_type": "code",
   "execution_count": 207,
   "metadata": {},
   "outputs": [],
   "source": [
    "expressions = []\n",
    "for judgment in parsed:\n",
    "    for tok in judgment.iter():\n",
    "        if tok.tag == 'tok':\n",
    "            text = None\n",
    "\n",
    "            for elem in tok:\n",
    "                if elem.tag == 'orth':\n",
    "                    text = elem.text\n",
    "                elif elem.tag == 'ann' and elem.text != '0':\n",
    "                    cat_detailed = elem.attrib['chan']\n",
    "                    cat_general = \"_\".join(cat_detailed.split('_')[:2])\n",
    "                    expressions.append((text, cat_general, cat_detailed))\n"
   ]
  },
  {
   "cell_type": "code",
   "execution_count": 219,
   "metadata": {},
   "outputs": [],
   "source": [
    "general = [exp[1] for exp in expressions]\n",
    "counter_gen = Counter(general)\n",
    "plot_counter(counter_gen)"
   ]
  },
  {
   "attachments": {},
   "cell_type": "markdown",
   "metadata": {},
   "source": [
    "![image.png](general.png)"
   ]
  },
  {
   "cell_type": "code",
   "execution_count": 221,
   "metadata": {},
   "outputs": [],
   "source": [
    "detailed = [exp[2] for exp in expressions]\n",
    "detailed_counter = Counter(detailed)\n",
    "plot_counter(detailed_counter)"
   ]
  },
  {
   "attachments": {},
   "cell_type": "markdown",
   "metadata": {},
   "source": [
    "![detailed.png](detailed.png)"
   ]
  },
  {
   "cell_type": "code",
   "execution_count": 210,
   "metadata": {
    "scrolled": true
   },
   "outputs": [
    {
     "name": "stdout",
     "output_type": "stream",
     "text": [
      ".               -> 1549  nam_pro_media_periodic\n",
      ".               -> 947   nam_org_company\n",
      "Dz              -> 779   nam_pro_media_periodic\n",
      "U               -> 776   nam_pro_media_periodic\n",
      "Sąd             -> 565   nam_org_institution\n",
      "zł              -> 519   nam_oth_currency\n",
      "Sądu            -> 461   nam_org_institution\n",
      "o               -> 376   nam_org_company\n",
      ".               -> 352   nam_liv_person\n",
      "Prawo           -> 297   nam_pro_title_document\n",
      "o               -> 262   nam_pro_title_document\n",
      "ustawy          -> 243   nam_pro_title_document\n",
      "Sp              -> 241   nam_org_company\n",
      "z               -> 219   nam_org_company\n",
      "z               -> 213   nam_pro_title_document\n",
      "dnia            -> 205   nam_pro_title_document\n",
      "Zamawiającego   -> 202   nam_liv_person\n",
      "S               -> 202   nam_org_company\n",
      "A               -> 190   nam_org_company\n",
      "Prezesa         -> 184   nam_org_institution\n",
      "M               -> 183   nam_liv_person\n",
      "zamówień        -> 181   nam_pro_title_document\n",
      "publicznych     -> 181   nam_pro_title_document\n",
      "Odwołującego    -> 175   nam_liv_person\n",
      "Okręgowy        -> 166   nam_org_institution\n",
      "Najwyższy       -> 160   nam_org_institution\n",
      "Najwyższego     -> 159   nam_org_institution\n",
      "złotych         -> 153   nam_oth_currency\n",
      "i               -> 145   nam_pro_title_document\n",
      "Okręgowego      -> 139   nam_org_institution\n",
      "Izby            -> 135   nam_org_institution\n",
      "S               -> 132   nam_liv_person\n",
      "Warszawie       -> 128   nam_loc_gpe_city\n",
      "Krajowej        -> 126   nam_org_institution\n",
      "Odwoławczej     -> 125   nam_org_institution\n",
      "Zamawiający     -> 125   nam_liv_person\n",
      "roku            -> 125   nam_pro_title_document\n",
      "ochronie        -> 123   nam_pro_title_document\n",
      "listopada       -> 122   nam_pro_title_document\n",
      "1995            -> 121   nam_pro_title_document\n",
      "i               -> 120   nam_org_institution\n",
      "9               -> 120   nam_pro_title_document\n",
      "zdrowia         -> 120   nam_pro_title_document\n",
      "przed           -> 120   nam_pro_title_document\n",
      "następstwami    -> 120   nam_pro_title_document\n",
      "używania        -> 120   nam_pro_title_document\n",
      "tytoniu         -> 120   nam_pro_title_document\n",
      "wyrobów         -> 120   nam_pro_title_document\n",
      "tytoniowych     -> 120   nam_pro_title_document\n",
      "własności       -> 120   nam_pro_title_document\n",
      "przemysłowej    -> 120   nam_pro_title_document\n",
      "Ubezpieczeń     -> 113   nam_org_institution\n",
      "Społecznych     -> 112   nam_org_institution\n",
      "Państwa         -> 112   nam_org_institution\n",
      "Warszawa        -> 109   nam_loc_gpe_city\n",
      "-               -> 100   nam_org_company\n",
      "Apelacyjny      -> 100   nam_org_institution\n",
      "Publicznych     -> 92    nam_org_institution\n",
      "Rady            -> 90    nam_org_institution\n",
      "w               -> 88    nam_org_institution\n",
      "SA              -> 88    nam_org_company\n",
      "Urzędu          -> 86    nam_org_institution\n",
      "Izba            -> 81    nam_org_institution\n",
      "BANK            -> 80    nam_org_company\n",
      "Krajowa         -> 79    nam_org_institution\n",
      "Odwoławcza      -> 79    nam_org_institution\n",
      "Ministrów       -> 79    nam_org_institution\n",
      "Zamówień        -> 75    nam_org_institution\n",
      "Banku           -> 72    nam_org_institution\n",
      "Apelacyjnego    -> 71    nam_org_institution\n",
      ".               -> 69    nam_pro_title_document\n",
      "TK              -> 68    nam_org_institution\n",
      "J               -> 67    nam_liv_person\n",
      "r               -> 65    nam_pro_title_document\n",
      "Pracy           -> 65    nam_org_institution\n",
      "K               -> 60    nam_liv_person\n",
      "Naftomontaż     -> 58    nam_org_company\n",
      "Siemens         -> 56    nam_liv_person\n",
      "Skarbu          -> 56    nam_org_institution\n",
      "Trybunał        -> 55    nam_org_institution\n",
      "Odwołujący      -> 54    nam_liv_person\n",
      "Konstytucyjny   -> 54    nam_org_institution\n",
      "Skarb           -> 54    nam_org_institution\n",
      "BNG             -> 54    nam_fac_goe\n",
      "A               -> 53    nam_liv_person\n",
      "Przemyśl        -> 52    nam_org_company\n",
      "BNG             -> 51    nam_org_company\n",
      "Trybunału       -> 50    nam_org_institution\n",
      "Rejonowego      -> 49    nam_org_institution\n",
      "Rejonowy        -> 49    nam_org_institution\n",
      "Sądowi          -> 48    nam_org_institution\n",
      "B               -> 47    nam_liv_person\n",
      "VAT             -> 45    nam_oth_tech\n",
      "Konstytucyjnego -> 44    nam_org_institution\n",
      "Polska          -> 40    nam_org_company\n",
      "L               -> 40    nam_liv_person\n",
      "Zamawiającemu   -> 39    nam_liv_person\n",
      "Inwalidów       -> 39    nam_liv_person\n",
      "R               -> 35    nam_liv_person\n",
      "Przedsiębiorstwo -> 33    nam_org_company\n"
     ]
    }
   ],
   "source": [
    "reduced_expressions = Counter(expressions)\n",
    "sorted_red_exp = sorted(reduced_expressions.items(), key=lambda x: x[1], reverse=True)[:100]\n",
    "for data, count in sorted_red_exp:\n",
    "    text, _, cat_detailed = data\n",
    "    print(\"{} -> {} {}\".format(text.ljust(15), str(count).ljust(5), cat_detailed))"
   ]
  },
  {
   "cell_type": "code",
   "execution_count": 211,
   "metadata": {},
   "outputs": [],
   "source": [
    "exp_per_general = defaultdict(lambda: defaultdict(lambda: defaultdict(lambda: 0)))\n",
    "for text, cat_general, cat_detailed in expressions:\n",
    "    exp_per_general[cat_general][cat_detailed][text] += 1 \n"
   ]
  },
  {
   "cell_type": "code",
   "execution_count": 212,
   "metadata": {},
   "outputs": [
    {
     "name": "stdout",
     "output_type": "stream",
     "text": [
      "nam_org\n",
      "\t(947, '.', 'nam_org_company')\n",
      "\t(565, 'Sąd', 'nam_org_institution')\n",
      "\t(461, 'Sądu', 'nam_org_institution')\n",
      "\t(376, 'o', 'nam_org_company')\n",
      "\t(241, 'Sp', 'nam_org_company')\n",
      "\t(219, 'z', 'nam_org_company')\n",
      "\t(202, 'S', 'nam_org_company')\n",
      "\t(190, 'A', 'nam_org_company')\n",
      "\t(184, 'Prezesa', 'nam_org_institution')\n",
      "\t(166, 'Okręgowy', 'nam_org_institution')\n",
      "nam_pro\n",
      "\t(1549, '.', 'nam_pro_media_periodic')\n",
      "\t(779, 'Dz', 'nam_pro_media_periodic')\n",
      "\t(776, 'U', 'nam_pro_media_periodic')\n",
      "\t(297, 'Prawo', 'nam_pro_title_document')\n",
      "\t(262, 'o', 'nam_pro_title_document')\n",
      "\t(243, 'ustawy', 'nam_pro_title_document')\n",
      "\t(213, 'z', 'nam_pro_title_document')\n",
      "\t(205, 'dnia', 'nam_pro_title_document')\n",
      "\t(181, 'zamówień', 'nam_pro_title_document')\n",
      "\t(181, 'publicznych', 'nam_pro_title_document')\n",
      "nam_loc\n",
      "\t(128, 'Warszawie', 'nam_loc_gpe_city')\n",
      "\t(109, 'Warszawa', 'nam_loc_gpe_city')\n",
      "\t(32, 'Izby', 'nam_loc_gpe_city')\n",
      "\t(31, 'Wrocławiu', 'nam_loc_gpe_city')\n",
      "\t(27, 'Wrocław', 'nam_loc_gpe_city')\n",
      "\t(27, 'Krakowie', 'nam_loc_gpe_city')\n",
      "\t(24, 'Kielcach', 'nam_loc_gpe_city')\n",
      "\t(20, 'Polsce', 'nam_loc_gpe_country')\n",
      "\t(18, 'XIV', 'nam_loc_country_region')\n",
      "\t(18, 'Wielkopolskim', 'nam_loc_gpe_city')\n",
      "nam_liv\n",
      "\t(352, '.', 'nam_liv_person')\n",
      "\t(202, 'Zamawiającego', 'nam_liv_person')\n",
      "\t(183, 'M', 'nam_liv_person')\n",
      "\t(175, 'Odwołującego', 'nam_liv_person')\n",
      "\t(132, 'S', 'nam_liv_person')\n",
      "\t(125, 'Zamawiający', 'nam_liv_person')\n",
      "\t(67, 'J', 'nam_liv_person')\n",
      "\t(60, 'K', 'nam_liv_person')\n",
      "\t(56, 'Siemens', 'nam_liv_person')\n",
      "\t(54, 'Odwołujący', 'nam_liv_person')\n",
      "nam_fac\n",
      "\t(54, 'BNG', 'nam_fac_goe')\n",
      "\t(15, 'Przemysłowa', 'nam_fac_road')\n",
      "\t(11, 'Olchowa', 'nam_fac_road')\n",
      "\t(11, 'Mostów', 'nam_fac_road')\n",
      "\t(10, 'Ślężna', 'nam_fac_road')\n",
      "\t(9, '„', 'nam_fac_goe')\n",
      "\t(9, 'Sp', 'nam_fac_road')\n",
      "\t(8, 'Szpital', 'nam_fac_goe')\n",
      "\t(7, 'Szpitalu', 'nam_fac_goe')\n",
      "\t(7, 'Grójecka', 'nam_fac_road')\n",
      "nam_num\n",
      "\t(17, '14', 'nam_num_house')\n",
      "\t(14, '6', 'nam_num_house')\n",
      "\t(11, '11', 'nam_num_house')\n",
      "\t(9, '5', 'nam_num_house')\n",
      "\t(9, '1', 'nam_num_house')\n",
      "\t(7, '55', 'nam_num_house')\n",
      "\t(7, '2', 'nam_num_house')\n",
      "\t(6, '4', 'nam_num_house')\n",
      "\t(6, '25', 'nam_num_house')\n",
      "\t(5, '59', 'nam_num_house')\n",
      "nam_oth\n",
      "\t(519, 'zł', 'nam_oth_currency')\n",
      "\t(153, 'złotych', 'nam_oth_currency')\n",
      "\t(45, 'VAT', 'nam_oth_tech')\n",
      "\t(15, 'złote', 'nam_oth_currency')\n",
      "\t(15, 'VAT', 'nam_oth_other')\n",
      "\t(13, 'euro', 'nam_oth_currency')\n",
      "\t(9, '.', 'nam_oth_other')\n",
      "\t(8, '4', 'nam_oth_other')\n",
      "\t(7, '1', 'nam_oth_other')\n",
      "\t(6, 'C', 'nam_oth_tech')\n",
      "nam_eve\n",
      "\t(7, 'Programu', 'nam_eve_human')\n",
      "\t(7, '-', 'nam_eve_human')\n",
      "\t(6, 'Użytkowego', 'nam_eve_human')\n",
      "\t(6, 'Funkcjonalno', 'nam_eve_human')\n",
      "\t(5, 'Usługowo', 'nam_eve_human')\n",
      "\t(5, 'Firma', 'nam_eve_human')\n",
      "\t(3, 'Euro', 'nam_eve_human_sport')\n",
      "\t(2, 'Tucholskiego', 'nam_eve_human')\n",
      "\t(2, 'Powiatu', 'nam_eve_human')\n",
      "\t(2, '4', 'nam_eve_human_sport')\n",
      "nam_adj\n",
      "\t(2, 'unijnego', 'nam_adj_other')\n",
      "\t(2, 'polskiej', 'nam_adj_country')\n",
      "\t(2, 'internetowej', 'nam_adj_other')\n",
      "\t(2, 'europejskiego', 'nam_adj_other')\n",
      "\t(2, 'Polskie', 'nam_adj_country')\n",
      "\t(1, 'unijnych', 'nam_adj_other')\n",
      "\t(1, 'polskim', 'nam_adj_country')\n",
      "\t(1, 'polskiego', 'nam_adj_country')\n",
      "\t(1, 'polska', 'nam_adj_country')\n",
      "\t(1, 'hiszpański', 'nam_adj_country')\n"
     ]
    }
   ],
   "source": [
    "for cat_gen, exp_per_det in exp_per_general.items():\n",
    "    items = [(count, text, cat_det) for cat_det, y in exp_per_det.items() for text, count in y.items()]\n",
    "    sorted_items = sorted(items, reverse=True)\n",
    "    print(cat_gen)\n",
    "    for item in sorted_items[:10]:\n",
    "        print(\"\\t{}\".format(item))\n"
   ]
  }
 ],
 "metadata": {
  "kernelspec": {
   "display_name": "Python 3",
   "language": "python",
   "name": "python3"
  },
  "language_info": {
   "codemirror_mode": {
    "name": "ipython",
    "version": 3
   },
   "file_extension": ".py",
   "mimetype": "text/x-python",
   "name": "python",
   "nbconvert_exporter": "python",
   "pygments_lexer": "ipython3",
   "version": "3.6.5"
  }
 },
 "nbformat": 4,
 "nbformat_minor": 2
}
