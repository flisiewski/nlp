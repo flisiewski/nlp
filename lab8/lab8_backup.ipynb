{
 "cells": [
  {
   "cell_type": "code",
   "execution_count": null,
   "metadata": {},
   "outputs": [],
   "source": [
    "FILE_LIST = 'files.p'\n",
    "DATA_DIR = \"/run/media/maciej/Nowy/data/json/\"\n",
    "CHOSEN_YEAR = \"2011\""
   ]
  },
  {
   "cell_type": "code",
   "execution_count": null,
   "metadata": {},
   "outputs": [],
   "source": [
    "import os, json, pickle, sys, os, glob, time\n",
    "from collections import defaultdict\n",
    "from urllib.request import urlopen, Request\n",
    "\n",
    "from tqdm import tqdm\n",
    "import regex\n",
    "\n",
    "from clarin import process\n"
   ]
  },
  {
   "cell_type": "code",
   "execution_count": null,
   "metadata": {},
   "outputs": [],
   "source": [
    "def get_first_k_judgments(k=100):\n",
    "    files = pickle.load(open(FILE_LIST, 'rb'))\n",
    "\n",
    "    total_judgments = []\n",
    "    for file in tqdm(files):\n",
    "        if file.startswith(\"judgment\"):\n",
    "            file_path = os.path.join(DATA_DIR, file)\n",
    "\n",
    "            with open(file_path, 'r') as f:\n",
    "                data = json.load(f)\n",
    "                judgments = [\n",
    "                    (x[\"id\"], x[\"judgmentDate\"]) for x in data[\"items\"] \n",
    "                    if x[\"judgmentDate\"].startswith(CHOSEN_YEAR)\n",
    "                ]\n",
    "            total_judgments += judgments\n",
    "\n",
    "    sorted_by_dates = sorted(total_judgments, key=lambda x: x[1])\n",
    "    ids, _ = zip(*sorted_by_dates)\n",
    "    \n",
    "    return ids[:k]\n",
    "\n",
    "first_100 = get_first_k_judgments()"
   ]
  },
  {
   "cell_type": "code",
   "execution_count": null,
   "metadata": {},
   "outputs": [],
   "source": [
    "word_pattern = \"\\p{Letter}+\"\n",
    "\n",
    "def load_data(ids):\n",
    "    total_judgments = []\n",
    "    files = pickle.load(open(FILE_LIST, 'rb'))\n",
    "    \n",
    "    for file in files:\n",
    "        if file.startswith(\"judgment\"):\n",
    "            file_path = os.path.join(DATA_DIR, file)\n",
    "\n",
    "            with open(file_path, 'r') as f:\n",
    "                data = json.load(f)\n",
    "                judgments = [\n",
    "                    x[\"textContent\"] for x in data[\"items\"] \n",
    "                    if x[\"id\"] in ids\n",
    "                ]\n",
    "                \n",
    "            total_judgments += judgments\n",
    "            \n",
    "    filtered_judgments = []\n",
    "    for judgment in tqdm(total_judgments):\n",
    "        judgment = regex.sub(\"<.*?>\", \"\", judgment)\n",
    "        judgment = regex.sub(\"-\\n(\\p{Letter}+)\", r\"\\1\", judgment)\n",
    "        judgment = judgment.lower()\n",
    "        \n",
    "        filtered_judgments.append(judgment)\n",
    "        \n",
    "    \n",
    "    return filtered_judgments\n",
    "\n",
    "judgments = load_data(first_100)"
   ]
  },
  {
   "cell_type": "code",
   "execution_count": null,
   "metadata": {},
   "outputs": [],
   "source": [
    "processed_judgments = []\n",
    "for judgment in judgments:\n",
    "    processed_judgment = process(judgment)\n",
    "    if processed_judgment:\n",
    "        processed_judgments.append(processed_judgment)\n",
    "    else:\n",
    "        print(processed_judgment)"
   ]
  }
 ],
 "metadata": {
  "kernelspec": {
   "display_name": "Python 3",
   "language": "python",
   "name": "python3"
  },
  "language_info": {
   "codemirror_mode": {
    "name": "ipython",
    "version": 3
   },
   "file_extension": ".py",
   "mimetype": "text/x-python",
   "name": "python",
   "nbconvert_exporter": "python",
   "pygments_lexer": "ipython3",
   "version": "3.6.5"
  }
 },
 "nbformat": 4,
 "nbformat_minor": 2
}
