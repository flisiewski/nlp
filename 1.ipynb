{
 "cells": [
  {
   "cell_type": "code",
   "execution_count": 1,
   "metadata": {},
   "outputs": [],
   "source": [
    "DATA_DIR = \"/run/media/maciej/Nowy/data/json/\"\n",
    "OUTPUT_FILE = \"results.txt\""
   ]
  },
  {
   "cell_type": "code",
   "execution_count": 13,
   "metadata": {},
   "outputs": [],
   "source": [
    "import json\n",
    "import os\n",
    "from tqdm import tqdm\n",
    "\n",
    "import matplotlib.pyplot as plt\n",
    "import numpy as np\n",
    "\n",
    "\n",
    "def run_on_files(func, ):\n",
    "    file_idx = 0\n",
    "    \n",
    "    files = os.listdir(DATA_DIR)\n",
    "    results = []\n",
    "    for file in tqdm(files):\n",
    "        if file.startswith(\"judgment\"):\n",
    "        \n",
    "            file_path = os.path.join(DATA_DIR, file)\n",
    "            \n",
    "            with open(file_path, 'r') as f:\n",
    "                data = json.load(f)\n",
    "                results.append(func(data))\n",
    "                \n",
    "    return results\n",
    "                \n",
    "\n"
   ]
  },
  {
   "cell_type": "code",
   "execution_count": 14,
   "metadata": {},
   "outputs": [],
   "source": [
    "def normalize(amount, pennies, factor):\n",
    "#     filtered_value = [character for character in amount if character not in \". \"]\n",
    "    pattern = re.compile(r';|’|\\.|\\s+')\n",
    "    filtered_value = re.sub(pattern, '', amount)\n",
    "    joined_digits = \"\".join(filtered_value)\n",
    "    \n",
    "    full_money_value = int(joined_digits)\n",
    "    \n",
    "    factor_mappings = {\n",
    "        'mld': 10**9,\n",
    "        'mln': 10**6,\n",
    "        'tys': 10**3,\n",
    "    }\n",
    "    factor = factor_mappings.get(factor, 1)\n",
    "    \n",
    "    if pennies is None:\n",
    "        pennies = 0\n",
    "    penny_value = float(\"0.{}\".format(pennies))\n",
    "    \n",
    "    return (full_money_value + penny_value) * factor"
   ]
  },
  {
   "cell_type": "code",
   "execution_count": 15,
   "metadata": {},
   "outputs": [
    {
     "name": "stdout",
     "output_type": "stream",
     "text": [
      "(?P<money>\\d+((?P<separator>[;’\\.\\s])\\d{3}((?P=separator)\\d{3})*)?\\s*)(\\,\\s*(?P<pennies>\\d{2,}))?\\s*((?P<factor>tys|mld|mln)\\.?\\s*)?zł(pt|ot|[^a-zA-Z]|o-\\s+tych)\n"
     ]
    }
   ],
   "source": [
    "NUMBER = \"\"\"(?P<money>\\d+((?P<separator>[;’\\.\\s])\\d{3}((?P=separator)\\d{3})*)?\\s*)\"\"\"\n",
    "PENNIES = \"(\\,\\s*(?P<pennies>\\d{2,}))?\\s*\"\n",
    "FACTOR = \"((?P<factor>tys|mld|mln)\\.?\\s*)?\"\n",
    "\n",
    "# OLD = \"(?P<starych>starych\\s*)?\"\n",
    "ENDINGS = [\n",
    "    \"pt\", # złptych\n",
    "    \"ot\", # złotych\n",
    "    \"[^a-zA-Z]\", # zł. zł, zł \n",
    "    \"o-\\s+tych\", # zło-\\ntych\n",
    "]\n",
    "JOINED_ENDINGS = \"|\".join(ending for ending in ENDINGS)\n",
    "CURRENCY = \"zł(\" + JOINED_ENDINGS + \")\"\n",
    "\n",
    "DETAILED_MONEY_REGEX = NUMBER + PENNIES + FACTOR + CURRENCY\n",
    "print(DETAILED_MONEY_REGEX)\n"
   ]
  },
  {
   "cell_type": "code",
   "execution_count": 19,
   "metadata": {},
   "outputs": [
    {
     "name": "stderr",
     "output_type": "stream",
     "text": [
      "100%|██████████| 3192/3192 [01:56<00:00, 27.40it/s]\n"
     ]
    }
   ],
   "source": [
    "import re\n",
    "\n",
    "def money_search(data):\n",
    "    judgments = [x[\"textContent\"] for x in data[\"items\"] if x[\"judgmentDate\"].startswith(\"2011\")]\n",
    "    \n",
    "    for judgment in judgments:                        \n",
    "        data = judgment\n",
    "        with open(OUTPUT_FILE, 'a') as f:        \n",
    "            for match in re.finditer(DETAILED_MONEY_REGEX, data, re.DOTALL):\n",
    "                amount, pennies, factor = match.group('money', 'pennies', 'factor')\n",
    "                \n",
    "                normalized = normalize(amount, pennies, factor)\n",
    "                f.write(\"{}\\n\".format(normalized))\n",
    "\n",
    "    \n",
    "_ = run_on_files(money_search)"
   ]
  },
  {
   "cell_type": "code",
   "execution_count": 227,
   "metadata": {},
   "outputs": [],
   "source": [
    "def load_amounts():\n",
    "    with open(OUTPUT_FILE, 'r') as f:\n",
    "        data = [float(amount) for amount in f.readlines()]\n",
    "    return data"
   ]
  },
  {
   "cell_type": "code",
   "execution_count": 241,
   "metadata": {},
   "outputs": [
    {
     "data": {
      "image/png": "[encoded data removed]",
      "text/plain": [
       "<matplotlib.figure.Figure at 0x7faa02910710>"
      ]
     },
     "metadata": {},
     "output_type": "display_data"
    }
   ],
   "source": [
    "amounts = load_amounts()\n",
    "plt.hist(amounts, bins=[10**x for x in range(0, 16)], log=True)\n",
    "plt.title(\"Histogram of all of the amounts\")\n",
    "plt.xscale(\"log\")\n",
    "plt.show()"
   ]
  },
  {
   "cell_type": "code",
   "execution_count": 244,
   "metadata": {},
   "outputs": [
    {
     "data": {
      "image/png": "[encoded data removed]",
      "text/plain": [
       "<matplotlib.figure.Figure at 0x7faa35a6f710>"
      ]
     },
     "metadata": {},
     "output_type": "display_data"
    }
   ],
   "source": [
    "amounts = [amount for amount in load_amounts() if amount >= 10**6]\n",
    "plt.hist(amounts, bins=[10**x for x in range(6, 16)], log=True)\n",
    "plt.title(\"Histogram of all of the amounts above one million\")\n",
    "plt.xscale(\"log\")\n",
    "plt.show()"
   ]
  },
  {
   "cell_type": "code",
   "execution_count": 254,
   "metadata": {},
   "outputs": [
    {
     "data": {
      "image/png": "[encoded data removed]",
      "text/plain": [
       "<matplotlib.figure.Figure at 0x7faa040de208>"
      ]
     },
     "metadata": {},
     "output_type": "display_data"
    }
   ],
   "source": [
    "amounts = [amount for amount in load_amounts() if amount < 10**6]\n",
    "plt.hist(amounts, bins=30, log=True)\n",
    "plt.title(\"Below one million\")\n",
    "# plt.xscale(\"log\")\n",
    "plt.show()"
   ]
  },
  {
   "cell_type": "code",
   "execution_count": 20,
   "metadata": {},
   "outputs": [
    {
     "name": "stderr",
     "output_type": "stream",
     "text": [
      "100%|██████████| 3192/3192 [01:51<00:00, 28.56it/s]"
     ]
    },
    {
     "name": "stdout",
     "output_type": "stream",
     "text": [
      "6699\n"
     ]
    },
    {
     "name": "stderr",
     "output_type": "stream",
     "text": [
      "\n"
     ]
    }
   ],
   "source": [
    "act_regex = r\"Ustawa z dnia 23 kwietnia 1964\"\n",
    "code = \".*cywiln.*\"\n",
    "article = \"(?P<article>art\\.\\s*445)\"\n",
    "regex = act_regex + \".*\" + code + article\n",
    "def references_func(data):\n",
    "    judgmentReferences = [x[\"referencedRegulations\"] for x in data[\"items\"] if x[\"judgmentDate\"].startswith(\"2011\")]\n",
    "    \n",
    "    total = 0\n",
    "    for references in judgmentReferences:\n",
    "        referenced = False\n",
    "        for reference in references:\n",
    "#             print(reference)\n",
    "            if re.search(regex, reference['text'], re.IGNORECASE):\n",
    "                referenced = True\n",
    "        total += 1\n",
    "    return total\n",
    "            \n",
    "print(sum(run_on_files(references_func)))"
   ]
  },
  {
   "cell_type": "code",
   "execution_count": 275,
   "metadata": {},
   "outputs": [
    {
     "name": "stderr",
     "output_type": "stream",
     "text": [
      "100%|██████████| 3192/3192 [01:51<00:00, 28.51it/s]"
     ]
    },
    {
     "name": "stdout",
     "output_type": "stream",
     "text": [
      "1824\n"
     ]
    },
    {
     "name": "stderr",
     "output_type": "stream",
     "text": [
      "\n"
     ]
    }
   ],
   "source": [
    "szkoda_regex = r\"\\b(szkod(a|y|zie|ę|ą|o|om|ach|ami)|szkód)\\b\"\n",
    "def szkoda_func(data):\n",
    "    judgments = [x[\"textContent\"] for x in data[\"items\"] if x[\"judgmentDate\"].startswith(\"2011\")]\n",
    "\n",
    "    mentions = 0\n",
    "    for judgment in judgments:\n",
    "        if re.search(szkoda_regex, judgment):\n",
    "            mentions += 1\n",
    "    return mentions\n",
    "mentions = run_on_files(szkoda_func)\n",
    "print(sum(mentions))"
   ]
  }
 ],
 "metadata": {
  "kernelspec": {
   "display_name": "Python 3",
   "language": "python",
   "name": "python3"
  },
  "language_info": {
   "codemirror_mode": {
    "name": "ipython",
    "version": 3
   },
   "file_extension": ".py",
   "mimetype": "text/x-python",
   "name": "python",
   "nbconvert_exporter": "python",
   "pygments_lexer": "ipython3",
   "version": "3.6.4"
  }
 },
 "nbformat": 4,
 "nbformat_minor": 2
}
