{
 "cells": [
  {
   "cell_type": "code",
   "execution_count": 1,
   "metadata": {},
   "outputs": [],
   "source": [
    "DATA_DIR = \"/run/media/maciej/Nowy/data/json/\"\n",
    "OUTPUT_FILE = \"results.txt\""
   ]
  },
  {
   "cell_type": "code",
   "execution_count": 33,
   "metadata": {},
   "outputs": [],
   "source": [
    "import json\n",
    "import os\n",
    "from tqdm import tqdm\n",
    "\n",
    "\n",
    "def run_on_files(func):\n",
    "    file_idx = 0\n",
    "    \n",
    "    files = os.listdir(DATA_DIR)\n",
    "    for file in tqdm(files):\n",
    "        if file.startswith(\"judgment\"):\n",
    "        \n",
    "            file_path = os.path.join(DATA_DIR, file)\n",
    "            with open(file_path, 'r') as f:\n",
    "                data = json.load(f)\n",
    "                func(data)\n",
    "            \n",
    "\n"
   ]
  },
  {
   "cell_type": "code",
   "execution_count": 139,
   "metadata": {},
   "outputs": [],
   "source": [
    "def normalize(amount, pennies):\n",
    "#     filtered_value = [character for character in amount if character not in \". \"]\n",
    "    if pennies is None:\n",
    "        pennies = 0\n",
    "        \n",
    "    pattern = re.compile(r';|’|\\.|\\s+')\n",
    "    filtered_value = re.sub(pattern, '', amount)\n",
    "    joined_digits = \"\".join(filtered_value)\n",
    "    return int(joined_digits) + float(\"0.{}\".format(pennies))"
   ]
  },
  {
   "cell_type": "code",
   "execution_count": 140,
   "metadata": {},
   "outputs": [
    {
     "name": "stdout",
     "output_type": "stream",
     "text": [
      "(?P<money>\\d[;’\\d\\.\\s]*)(\\,\\s*(?P<pennies>\\d{2,}))?\\s*zł(pt|ot|[^a-zA-Z]|o-\\s+tych)\n"
     ]
    }
   ],
   "source": [
    "POSSIBLE_MONEY_REGEX = r\"\\d[\\d\\.\\s]*\\s+zł.{3}\"\n",
    "\n",
    "ENDINGS = [\n",
    "    \"pt\", # złptych\n",
    "    \"ot\", # złotych\n",
    "    \"[^a-zA-Z]\", # zł. zł, zł \n",
    "    \"o-\\s+tych\", # zło-\\ntych\n",
    "]\n",
    "JOINED_ENDINGS = \"|\".join(ending for ending in ENDINGS)\n",
    "\n",
    "DETAILED_MONEY_REGEX = r\"(?P<money>\\d[;’\\d\\.\\s]*)(\\,\\s*(?P<pennies>\\d{2,}))?\\s*zł(\" + JOINED_ENDINGS + \")\"\n",
    "print(DETAILED_MONEY_REGEX)\n"
   ]
  },
  {
   "cell_type": "code",
   "execution_count": 142,
   "metadata": {},
   "outputs": [
    {
     "name": "stderr",
     "output_type": "stream",
     "text": [
      " 37%|███▋      | 1189/3192 [02:46<04:40,  7.14it/s]"
     ]
    },
    {
     "name": "stdout",
     "output_type": "stream",
     "text": [
      "k sprawy:  \n",
      "PN-1/15/21 \n",
      " \n",
      " \n",
      "16.03.2015 \n",
      "5.840.448,\n",
      "sprawy  \n",
      "Szp/FZ -55/2014 \n",
      " \n",
      " \n",
      "26.09.2014 \n",
      "6.025.36\n",
      "ńskiego  \n",
      "Łódź \n",
      " \n",
      " \n",
      "16.12.2014 \n",
      "2.119.600 zł \n",
      "wg k\n",
      "w Poznaniu \n",
      "DZP/284/2014 \n",
      " \n",
      " \n",
      " \n",
      "15.10.2014 \n",
      " \n",
      "6.30\n",
      "ono \n",
      "zamawiającemu \n",
      "27.04.2015 \n",
      "22.415.782.59 zł \n",
      "\n",
      " sprawy:  \n",
      "PN-I/l 5/21 \n",
      " \n",
      " \n",
      "16.03.2015 \n",
      "6.017.432,\n",
      "iegańskiego \n",
      " Łódź \n",
      "16.12.2014 2.119.600 zł  \n",
      "wg k\n",
      "w Poznaniu \n",
      "DZP/284/2014 \n",
      "15.10.2014 6.300.000 zł \n",
      "ono \n",
      "Zamawiającemu \n",
      "27.04.2015 \n",
      "17.601.771,72 zł \n",
      "\n"
     ]
    },
    {
     "name": "stderr",
     "output_type": "stream",
     "text": [
      " 44%|████▍     | 1400/3192 [03:15<04:09,  7.18it/s]"
     ]
    },
    {
     "name": "stdout",
     "output_type": "stream",
     "text": [
      "989-1262451, 1990 - 407930.09.1990983 zł.</p>\n",
      "    \n"
     ]
    },
    {
     "name": "stderr",
     "output_type": "stream",
     "text": [
      " 61%|██████▏   | 1959/3192 [04:31<02:51,  7.20it/s]"
     ]
    },
    {
     "name": "stdout",
     "output_type": "stream",
     "text": [
      "a wynika z umowy nr 0023686010010410030 zł, w kwoc\n"
     ]
    },
    {
     "name": "stderr",
     "output_type": "stream",
     "text": [
      " 76%|███████▋  | 2438/3192 [05:38<01:44,  7.20it/s]"
     ]
    },
    {
     "name": "stdout",
     "output_type": "stream",
     "text": [
      " z urzędu</a> (Dz.U.2002.163.1348; 1549,80 zł za p\n"
     ]
    },
    {
     "name": "stderr",
     "output_type": "stream",
     "text": [
      " 88%|████████▊ | 2817/3192 [06:33<00:52,  7.16it/s]"
     ]
    },
    {
     "name": "stdout",
     "output_type": "stream",
     "text": [
      "ego. \n",
      " \n",
      "Rok / dzień 01.01 30.06 31.12 \n",
      "2015 3,466 \n"
     ]
    },
    {
     "name": "stderr",
     "output_type": "stream",
     "text": [
      " 94%|█████████▍| 3006/3192 [06:59<00:25,  7.17it/s]"
     ]
    },
    {
     "name": "stdout",
     "output_type": "stream",
     "text": [
      "rodki zablokowane - 9.999.999.999.999.99 zł”. Info\n"
     ]
    },
    {
     "name": "stderr",
     "output_type": "stream",
     "text": [
      "100%|██████████| 3192/3192 [07:25<00:00,  7.16it/s]\n"
     ]
    }
   ],
   "source": [
    "import re\n",
    "\n",
    "def money_search(data):\n",
    "    judgments = [x[\"textContent\"] for x in data[\"items\"]]\n",
    "    \n",
    "    for judgment in judgments:                        \n",
    "        data = judgment\n",
    "        with open(OUTPUT_FILE, 'a') as f:        \n",
    "            for match in re.finditer(DETAILED_MONEY_REGEX, data, re.DOTALL):\n",
    "                amount, pennies = match.group('money', 'pennies')\n",
    "\n",
    "                normalized = normalize(amount, pennies)\n",
    "                if normalized > 10**14:\n",
    "                    idx = match.start('money')\n",
    "                    print(data[idx-20:idx+30])\n",
    "                f.write(\"{}\\n\".format(normalized))\n",
    "\n",
    "\n",
    "    \n",
    "run_on_files(money_search)"
   ]
  },
  {
   "cell_type": "code",
   "execution_count": 143,
   "metadata": {},
   "outputs": [],
   "source": [
    "def load_amounts():\n",
    "    with open(OUTPUT_FILE, 'r') as f:\n",
    "        data = [float(amount) for amount in f.readlines()]\n",
    "    return data"
   ]
  },
  {
   "cell_type": "code",
   "execution_count": 144,
   "metadata": {},
   "outputs": [],
   "source": [
    "import matplotlib.pyplot as plt\n",
    "import numpy as np\n",
    "\n"
   ]
  },
  {
   "cell_type": "code",
   "execution_count": 159,
   "metadata": {},
   "outputs": [
    {
     "data": {
      "image/png": "[encoded data removed]",
      "text/plain": [
       "<matplotlib.figure.Figure at 0x7faa358eb0f0>"
      ]
     },
     "metadata": {},
     "output_type": "display_data"
    }
   ],
   "source": [
    "amounts = load_amounts()\n",
    "plt.hist(amounts, bins=30)\n",
    "plt.title(\"Histogram of all of the amounts\")\n",
    "plt.show()"
   ]
  },
  {
   "cell_type": "code",
   "execution_count": 176,
   "metadata": {},
   "outputs": [
    {
     "data": {
      "image/png": "[encoded data removed]",
      "text/plain": [
       "<matplotlib.figure.Figure at 0x7fa9bfb96400>"
      ]
     },
     "metadata": {},
     "output_type": "display_data"
    }
   ],
   "source": [
    "amounts = [amount for amount in load_amounts() if amount < 10**9]\n",
    "plt.hist(amounts, bins=30)\n",
    "plt.title(\"Histogram of all of the amounts below 10^9\")\n",
    "plt.show()"
   ]
  },
  {
   "cell_type": "code",
   "execution_count": 177,
   "metadata": {},
   "outputs": [
    {
     "data": {
      "image/png": "[encoded data removed]",
      "text/plain": [
       "<matplotlib.figure.Figure at 0x7faa13994860>"
      ]
     },
     "metadata": {},
     "output_type": "display_data"
    }
   ],
   "source": [
    "amounts = [amount for amount in load_amounts() if amount < 10**6]\n",
    "plt.hist(amounts, bins=30)\n",
    "plt.title(\"Histogram of all of the amounts above one million\")\n",
    "plt.show()"
   ]
  },
  {
   "cell_type": "code",
   "execution_count": 156,
   "metadata": {},
   "outputs": [
    {
     "data": {
      "image/png": "[encoded data removed]",
      "text/plain": [
       "<matplotlib.figure.Figure at 0x7faa2b7e1518>"
      ]
     },
     "metadata": {},
     "output_type": "display_data"
    }
   ],
   "source": [
    "amounts = load_amounts()\n",
    "below_million = [amount for amount in amounts if amount < 10**6]\n",
    "plt.hist(below_million, bins=30)\n",
    "plt.title(\"Histogram of amounts below one million\")\n",
    "plt.show()"
   ]
  },
  {
   "cell_type": "code",
   "execution_count": 175,
   "metadata": {},
   "outputs": [
    {
     "data": {
      "image/png": "[encoded data removed]",
      "text/plain": [
       "<matplotlib.figure.Figure at 0x7faa358b5b38>"
      ]
     },
     "metadata": {},
     "output_type": "display_data"
    }
   ],
   "source": [
    "amounts = load_amounts()\n",
    "below_million = [amount for amount in amounts if 10 < amount < 100000]\n",
    "plt.hist(below_million, bins=100)\n",
    "plt.title(\"Histogram of amounts below 100000\")\n",
    "plt.show()"
   ]
  },
  {
   "cell_type": "code",
   "execution_count": 178,
   "metadata": {},
   "outputs": [
    {
     "data": {
      "image/png": "[encoded data removed]",
      "text/plain": [
       "<matplotlib.figure.Figure at 0x7faa35a695c0>"
      ]
     },
     "metadata": {},
     "output_type": "display_data"
    }
   ],
   "source": [
    "amounts = load_amounts()\n",
    "below_million = [amount for amount in amounts if 10 < amount < 1000]\n",
    "plt.hist(below_million, bins=100)\n",
    "plt.title(\"Histogram of amounts below 100000\")\n",
    "plt.show()"
   ]
  },
  {
   "cell_type": "code",
   "execution_count": null,
   "metadata": {},
   "outputs": [],
   "source": []
  }
 ],
 "metadata": {
  "kernelspec": {
   "display_name": "Python 3",
   "language": "python",
   "name": "python3"
  },
  "language_info": {
   "codemirror_mode": {
    "name": "ipython",
    "version": 3
   },
   "file_extension": ".py",
   "mimetype": "text/x-python",
   "name": "python",
   "nbconvert_exporter": "python",
   "pygments_lexer": "ipython3",
   "version": "3.6.4"
  }
 },
 "nbformat": 4,
 "nbformat_minor": 2
}
