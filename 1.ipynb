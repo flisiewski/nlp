{
 "cells": [
  {
   "cell_type": "code",
   "execution_count": 74,
   "metadata": {},
   "outputs": [],
   "source": [
    "DATA_DIR = \"/run/media/maciej/Nowy/data/json/\"\n",
    "OUTPUT_FILE = \"results.txt\""
   ]
  },
  {
   "cell_type": "code",
   "execution_count": 123,
   "metadata": {},
   "outputs": [],
   "source": [
    "import json\n",
    "import os\n",
    "from tqdm import tqdm\n",
    "\n",
    "\n",
    "def run_on_files(func):\n",
    "    file_idx = 0\n",
    "    \n",
    "    files = os.listdir(DATA_DIR)\n",
    "    for file in tqdm(files):\n",
    "        if file.startswith(\"judgment\"):\n",
    "        \n",
    "            file_path = os.path.join(DATA_DIR, file)\n",
    "            with open(file_path, 'r') as f:\n",
    "                data = json.load(f)\n",
    "                func(data)\n",
    "            \n",
    "\n"
   ]
  },
  {
   "cell_type": "code",
   "execution_count": 124,
   "metadata": {},
   "outputs": [],
   "source": [
    "def normalize(amount):\n",
    "#     filtered_value = [character for character in amount if character not in \". \"]\n",
    "    \n",
    "    pattern = re.compile(r'\\.|\\s+')\n",
    "    filtered_value = re.sub(pattern, '', amount)\n",
    "    joined_digits = \"\".join(filtered_value)\n",
    "    return int(joined_digits)"
   ]
  },
  {
   "cell_type": "code",
   "execution_count": 125,
   "metadata": {},
   "outputs": [
    {
     "name": "stdout",
     "output_type": "stream",
     "text": [
      "(?P<money>\\d[\\d\\.\\s]*)\\s+zł(pt|ot|[^a-zA-Z]|o-\\s+tych)\n"
     ]
    }
   ],
   "source": [
    "POSSIBLE_MONEY_REGEX = r\"\\d[\\d\\.\\s]*\\s+zł.{3}\"\n",
    "\n",
    "ENDINGS = [\n",
    "    \"pt\", # złptych\n",
    "    \"ot\", # złotych\n",
    "    \"[^a-zA-Z]\", # zł. zł, zł \n",
    "    \"o-\\s+tych\", # zło-\\ntych\n",
    "]\n",
    "JOINED_ENDINGS = \"|\".join(ending for ending in ENDINGS)\n",
    "\n",
    "DETAILED_MONEY_REGEX = r\"(?P<money>\\d[\\d\\.\\s]*)\\s+zł({})\".format(JOINED_ENDINGS)\n",
    "print(DETAILED_MONEY_REGEX)"
   ]
  },
  {
   "cell_type": "code",
   "execution_count": 129,
   "metadata": {},
   "outputs": [
    {
     "name": "stderr",
     "output_type": "stream",
     "text": [
      "100%|██████████| 3192/3192 [08:09<00:00,  6.52it/s]\n"
     ]
    }
   ],
   "source": [
    "import re\n",
    "\n",
    "def money_search(data):\n",
    "    judgments = [x[\"textContent\"] for x in data[\"items\"]]\n",
    "    data = \"\\n\".join(judgments)\n",
    "        \n",
    "    results = re.findall(POSSIBLE_MONEY_REGEX, data, re.DOTALL)\n",
    "    detailed = re.findall(DETAILED_MONEY_REGEX, data, re.DOTALL)\n",
    "\n",
    "    \n",
    "#     check for interesting edge cases which wouldn't be spotted using simple POSSIBLE_MONEY_REGEX\n",
    "#     if len(results) != len(detailed):\n",
    "#         for result in results:\n",
    "#             if not re.findall(DETAILED_MONEY_REGEX, result):\n",
    "#                 print(result)\n",
    "                \n",
    "    with open(OUTPUT_FILE, 'a') as f:        \n",
    "        for match in detailed:\n",
    "            amount, _ = match\n",
    "            f.write(\"{}\\n\".format(normalize(amount)))\n",
    "        \n",
    "\n",
    "    \n",
    "run_on_files(money_search)"
   ]
  },
  {
   "cell_type": "code",
   "execution_count": null,
   "metadata": {},
   "outputs": [],
   "source": []
  }
 ],
 "metadata": {
  "kernelspec": {
   "display_name": "Python 3",
   "language": "python",
   "name": "python3"
  },
  "language_info": {
   "codemirror_mode": {
    "name": "ipython",
    "version": 3
   },
   "file_extension": ".py",
   "mimetype": "text/x-python",
   "name": "python",
   "nbconvert_exporter": "python",
   "pygments_lexer": "ipython3",
   "version": "3.6.4"
  }
 },
 "nbformat": 4,
 "nbformat_minor": 2
}
