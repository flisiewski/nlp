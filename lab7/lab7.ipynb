{
 "cells": [
  {
   "cell_type": "code",
   "execution_count": 14,
   "metadata": {},
   "outputs": [],
   "source": [
    "import requests\n",
    "\n",
    "BASE_URL = \"http://api.slowosiec.clarin-pl.eu/plwordnet-api/\"\n",
    "ENDPOINT = \"corpusExample/search\"\n",
    "def analyze(data):\n",
    "    url = BASE_URL + ENDPOINT\n",
    "    content = requests.get(url, params=data).text\n",
    "    print(content)"
   ]
  },
  {
   "cell_type": "code",
   "execution_count": 15,
   "metadata": {},
   "outputs": [
    {
     "name": "stdout",
     "output_type": "stream",
     "text": [
      "[{\"id\":365879,\"text\":\"Wprowadzić _psa_ nie wolno , ale za to można po nim posprzątać . [KPWr]\",\"word\":{\"id\":184177,\"word\":\"pies\"}},{\"id\":365880,\"text\":\"Nazwa rasy oznacza _psa_ z Pomorza , na które psy te przywędrowały z woźnicami . [KPWr]\",\"word\":{\"id\":184177,\"word\":\"pies\"}},{\"id\":365881,\"text\":\"Można z nim uprawiać psie sporty np . Agility , obedience , lub taniec z _psem_ . [KPWr]\",\"word\":{\"id\":184177,\"word\":\"pies\"}},{\"id\":365882,\"text\":\"Pies , zaszczekawszy radośnie , wskoczył za mną na płytę . [KPWr]\",\"word\":{\"id\":184177,\"word\":\"pies\"}},{\"id\":365883,\"text\":\"Szpic miniaturowy ( Pomeranian ) - jedna z ras psów , należąca do grupy szpiców i _psów_ pierwotnych , zaklasyfikowana do sekcji szpiców europejskich . [KPWr]\",\"word\":{\"id\":184177,\"word\":\"pies\"}},{\"id\":365884,\"text\":\"Jęk drutów telegraficznych , podobny do żałosnego , zmęczonego pisku _psów_ na łańcuchach , rozbrzmiewał po pokoju . [KPWr]\",\"word\":{\"id\":184177,\"word\":\"pies\"}},{\"id\":365885,\"text\":\"12 - letni Rafał z Ozorkowa został dotkliwie okaleczony przez _psa_ . [KPWr]\",\"word\":{\"id\":184177,\"word\":\"pies\"}},{\"id\":365886,\"text\":\"Nie dostrzeże związku : z bohaterskim wodzem , z majakiem wstęgi orderowej w duszy prowadzącym żołnierzy w bój za ojczyznę , ani z zadowoleniem wołu wyprzęgniętego z pługa , ani z dziennikarską reklamą dla konstruktorów nowej odmiany rytmu i dla wynalazców nowych sposobów czyszczenia kloak miejskich , ani też z skowytem _psa_ , co się wyśliznął z pętlicy rakarza . [KPWr]\",\"word\":{\"id\":184177,\"word\":\"pies\"}},{\"id\":365887,\"text\":\"Według babci chłopca , _pies_ zaatakował Rafała , kiedy jego właściciel na czas opróżniania kufla z piwem przekazał chłopcu smycz do potrzymania . [KPWr]\",\"word\":{\"id\":184177,\"word\":\"pies\"}},{\"id\":365888,\"text\":\"Jest _psem_ jednego pana , bardzo się przywiązuje , ale też często nie można nad nim zapanować . [KPWr]\",\"word\":{\"id\":184177,\"word\":\"pies\"}},{\"id\":365889,\"text\":\"Znana jest też legenda , według której Mahomet pogryziony przez wściekłe _psy_ prawie dogorywał ukryty w jaskini . [KPWr]\",\"word\":{\"id\":184177,\"word\":\"pies\"}},{\"id\":365890,\"text\":\"Pies do towarzystwa . [KPWr]\",\"word\":{\"id\":184177,\"word\":\"pies\"}},{\"id\":365891,\"text\":\"W końcu wolność _psa_ i jego właściciela polega na tym , żeby pies mógł załatwiać się gdzie chce . [KPWr]\",\"word\":{\"id\":184177,\"word\":\"pies\"}},{\"id\":365892,\"text\":\"Do tej pory nie udało się bowiem ustalić , czy _pies_ był szczepiony przeciw wściekliźnie . [KPWr]\",\"word\":{\"id\":184177,\"word\":\"pies\"}},{\"id\":365893,\"text\":\"Właściciel płaci podatek za siebie , za _psa_ pewnie też , czynsz płaci i składkę zdrowotną . [KPWr]\",\"word\":{\"id\":184177,\"word\":\"pies\"}},{\"id\":365894,\"text\":\"Pies był bez kagańca . [KPWr]\",\"word\":{\"id\":184177,\"word\":\"pies\"}},{\"id\":365895,\"text\":\"W końcu wolność psa i jego właściciela polega na tym , żeby _pies_ mógł załatwiać się gdzie chce . [KPWr]\",\"word\":{\"id\":184177,\"word\":\"pies\"}},{\"id\":365896,\"text\":\"Jeden z dwóch _psów_ Nicole Richie to szpic miniaturowy [KPWr]\",\"word\":{\"id\":184177,\"word\":\"pies\"}},{\"id\":365897,\"text\":\"Głównie zwierzęta potrafiły spostrzec zbliżanie się śmierci - niespokojne zachowanie koni , zabłąkany czarny _pies_ były niechybnymi zwiastunami śmierci . [KPWr]\",\"word\":{\"id\":184177,\"word\":\"pies\"}},{\"id\":365898,\"text\":\"Rodzina : mąż Wojtek , córki Anna i Agata , dwie Babcie , _pies_ Fajka i kotka Nuta . [KPWr]\",\"word\":{\"id\":184177,\"word\":\"pies\"}}]\n"
     ]
    }
   ],
   "source": [
    "analyze({\"lemma\": \"pies\"})"
   ]
  }
 ],
 "metadata": {
  "kernelspec": {
   "display_name": "Python 3",
   "language": "python",
   "name": "python3"
  },
  "language_info": {
   "codemirror_mode": {
    "name": "ipython",
    "version": 3
   },
   "file_extension": ".py",
   "mimetype": "text/x-python",
   "name": "python",
   "nbconvert_exporter": "python",
   "pygments_lexer": "ipython3",
   "version": "3.6.5"
  }
 },
 "nbformat": 4,
 "nbformat_minor": 2
}
