{
 "cells": [
  {
   "cell_type": "code",
   "execution_count": 3,
   "metadata": {},
   "outputs": [],
   "source": [
    "from elasticsearch import Elasticsearch\n",
    "from elasticsearch_dsl import connections\n",
    "client = Elasticsearch()\n",
    "\n",
    "connections.configure(\n",
    "    default={'hosts': 'localhost'},\n",
    ")"
   ]
  },
  {
   "cell_type": "markdown",
   "metadata": {},
   "source": [
    "### Zdefiniuj w ES indeks do przechowywania orzeczeń sądów oraz analizator zawierający następujące elementy (tekst w języku polskim): standardowy tokenizer filtr lematyzujący oparty o morfologika \n",
    "\n",
    "\n",
    "```json\n",
    "PUT judgments\n",
    "{\n",
    "  \"settings\": {\n",
    "    \"analysis\": {\n",
    "      \"analyzer\": {\n",
    "        \"polish_analyzer\": { \n",
    "          \"tokenizer\": \"standard\",\n",
    "          \"filter\": [\n",
    "            \"morfologik_stem\"\n",
    "          ],\n",
    "          \"type\": \"custom\"\n",
    "        }\n",
    "      }\n",
    "    }\n",
    "  },\n",
    "  \"mappings\": {\n",
    "    \"doc\": {\n",
    "      \"properties\": {\n",
    "        \"content\": {\n",
    "          \"type\": \"text\",\n",
    "          \"analyzer\": \"polish_analyzer\"\n",
    "        },\n",
    "        \"judgmentDate\": {\n",
    "          \"type\": \"date\",\n",
    "          \"format\": \"yyyy-MM-dd\"\n",
    "        },\n",
    "        \"signature\": {\n",
    "          \"type\": \"keyword\"\n",
    "        },\n",
    "        \"judges\": {\n",
    "          \"type\": \"keyword\"\n",
    "        }\n",
    "      }\n",
    "    }\n",
    "  }\n",
    "}\n",
    "```"
   ]
  },
  {
   "cell_type": "code",
   "execution_count": 4,
   "metadata": {},
   "outputs": [],
   "source": [
    "from elasticsearch_dsl import analyzer\n",
    "analyzer = analyzer(\n",
    "    'polish_analyzer',\n",
    "    tokenizer=\"standard\",\n",
    "    filter=[\"morfologik_stem\"],\n",
    ")"
   ]
  },
  {
   "cell_type": "code",
   "execution_count": 14,
   "metadata": {},
   "outputs": [
    {
     "name": "stdout",
     "output_type": "stream",
     "text": [
      "{'mappings': {'doc': {'properties': {'content': {'analyzer': 'polish_analyzer', 'type': 'text'}, 'judgment_date': {'type': 'date'}, 'signature': {'type': 'keyword'}, 'judges': {'properties': {'name': {'analyzer': 'polish_analyzer', 'type': 'text'}}, 'type': 'nested'}}}}, 'settings': {'analysis': {'analyzer': {'polish_analyzer': {'tokenizer': 'standard', 'filter': ['morfologik_stem'], 'type': 'custom'}}}}}\n"
     ]
    }
   ],
   "source": [
    "from elasticsearch_dsl import DocType, Text, Date, Keyword, Nested, InnerDoc, Index\n",
    "judgments = Index('judgments')\n",
    "judgments.analyzer(analyzer)\n",
    "\n",
    "class Judge(InnerDoc):\n",
    "    name = Text(analyzer=analyzer)\n",
    "\n",
    "@judgments.doc_type\n",
    "class Judgment(DocType):\n",
    "    content = Text(analyzer='polish_analyzer')\n",
    "    judgment_date = Date()\n",
    "    signature = Keyword()\n",
    "    judges = Nested(Judge)\n",
    "\n",
    "print(judgments.to_dict())    \n",
    "judgments.create()"
   ]
  },
  {
   "cell_type": "markdown",
   "metadata": {},
   "source": [
    "### Załaduj dane z wybranego roku do ESa"
   ]
  },
  {
   "cell_type": "code",
   "execution_count": 123,
   "metadata": {},
   "outputs": [],
   "source": [
    "# configs \n",
    "DATA_DIR = \"/run/media/maciej/Nowy/data/json/\"\n",
    "CHOSEN_YEAR = str(2011)\n",
    "FILE_LIST = 'files.pickle'\n"
   ]
  },
  {
   "cell_type": "code",
   "execution_count": 124,
   "metadata": {},
   "outputs": [
    {
     "name": "stderr",
     "output_type": "stream",
     "text": [
      "100%|██████████| 3192/3192 [03:45<00:00, 14.13it/s]\n"
     ]
    },
    {
     "data": {
      "text/plain": [
       "[]"
      ]
     },
     "execution_count": 124,
     "metadata": {},
     "output_type": "execute_result"
    }
   ],
   "source": [
    "import json\n",
    "import os\n",
    "import pickle\n",
    "\n",
    "from tqdm import tqdm\n",
    "\n",
    "def load_data():    \n",
    "    files = pickle.load(open(FILE_LIST, 'rb'))\n",
    "    files = os.listdir(DATA_DIR)\n",
    "    results = []\n",
    "    for file in tqdm(files):\n",
    "        if file.startswith(\"judgment\"):\n",
    "            file_path = os.path.join(DATA_DIR, file)\n",
    "\n",
    "            with open(file_path, 'r') as f:\n",
    "                data = json.load(f)\n",
    "                judgments = [x for x in data[\"items\"] if x[\"judgmentDate\"].startswith(CHOSEN_YEAR)]\n",
    "\n",
    "            for judgment in judgments:\n",
    "                Judgment(\n",
    "                    content=judgment['textContent'],\n",
    "                    judgment_date=judgment['judgmentDate'],\n",
    "                    signature=judgment['id'],\n",
    "                    judge=[Judge(name=judge['name']) for judge in judgment['judges']],\n",
    "                ).save()\n",
    "\n",
    "load_data()"
   ]
  },
  {
   "cell_type": "markdown",
   "metadata": {},
   "source": [
    "### Znajdź liczbę orzeczeń, w których występuje słowo szkoda.\n",
    "```\n",
    "GET judgments/_search \n",
    "{\n",
    "  \"query\": {\n",
    "    \"match\": {\n",
    "      \"content\": \"szkoda\"\n",
    "    }\n",
    "  }, \n",
    "  \"explain\": true\n",
    "}\n",
    "```"
   ]
  },
  {
   "cell_type": "code",
   "execution_count": 53,
   "metadata": {},
   "outputs": [
    {
     "name": "stdout",
     "output_type": "stream",
     "text": [
      "{'query': {'match': {'content': 'szkoda'}}, 'explain': True}\n",
      "1828\n"
     ]
    }
   ],
   "source": [
    "s = Judgment.search().extra(explain=True)\n",
    "query_content = s.query(\"match\", content=\"szkoda\")\n",
    "print(query_content.to_dict())\n",
    "szkoda_occurences = query_content.execute()\n",
    "\n",
    "print(szkoda_occurences.hits.total)"
   ]
  },
  {
   "cell_type": "markdown",
   "metadata": {},
   "source": [
    "### Znajdź liczbę orzeczeń, w których występuje fraza trwały uszczerbek na zdrowiu, dokładnie w tej kolejności ale w dowolnej formie fleksyjnej.\n",
    "\n",
    "```\n",
    "GET judgments/_search\n",
    "{\n",
    "    \"query\": {\n",
    "        \"match_phrase\": {\n",
    "            \"content\": \"trwały uszczerbek na zdrowiu\"\n",
    "        }\n",
    "    }\n",
    "}\n",
    "```"
   ]
  },
  {
   "cell_type": "code",
   "execution_count": 54,
   "metadata": {},
   "outputs": [
    {
     "name": "stdout",
     "output_type": "stream",
     "text": [
      "{'query': {'match_phrase': {'content': 'trwały uszczerbek na zdrowie'}}, 'explain': True}\n"
     ]
    }
   ],
   "source": [
    "from elasticsearch_dsl.query import MatchPhrase\n",
    "\n",
    "m = MatchPhrase(\n",
    "    content=\"trwały uszczerbek na zdrowie\"\n",
    ")\n",
    "print(s.query(m).to_dict())\n",
    "permanent_damage = s.query(m).execute()"
   ]
  },
  {
   "cell_type": "code",
   "execution_count": 55,
   "metadata": {},
   "outputs": [
    {
     "data": {
      "text/plain": [
       "24"
      ]
     },
     "execution_count": 55,
     "metadata": {},
     "output_type": "execute_result"
    }
   ],
   "source": [
    "permanent_damage.hits.total"
   ]
  },
  {
   "cell_type": "markdown",
   "metadata": {},
   "source": [
    "### Jak wyżej, ale z uwzględnieniem możliwości wystąpienia maksymalnie 2 dodatkowych słów pomiędzy dowolnymi elementami frazy.\n",
    "```\n",
    "GET /_search\n",
    "{\n",
    "    \"query\": {\n",
    "        \"span_near\" : {\n",
    "            \"clauses\" : [\n",
    "                { \"span_term\" : { \"content\" : \"trwały\" } },\n",
    "                { \"span_term\" : { \"content\" : \"uszczerbek\" } },\n",
    "                { \"span_term\" : { \"content\" : \"na\" } },\n",
    "                { \"span_term\" : { \"content\" : \"zdrowiu\" } }\n",
    "            ],\n",
    "            \"slop\" : 2,\n",
    "            \"in_order\" : true\n",
    "        }\n",
    "    }\n",
    "}\n",
    "```"
   ]
  },
  {
   "cell_type": "code",
   "execution_count": 56,
   "metadata": {},
   "outputs": [
    {
     "name": "stdout",
     "output_type": "stream",
     "text": [
      "{'query': {'span_near': {'clauses': [{'span_term': {'content': 'trwały'}}, {'span_term': {'content': 'uszczerbek'}}, {'span_term': {'content': 'na'}}, {'span_term': {'content': 'zdrowiu'}}], 'slop': 2, 'in_order': True}}, 'explain': True}\n"
     ]
    }
   ],
   "source": [
    "from elasticsearch_dsl.query import SpanNear\n",
    "span = SpanNear(\n",
    "    clauses=[\n",
    "        {\"span_term\": {\"content\": \"trwały\"}},\n",
    "        {\"span_term\": {\"content\": \"uszczerbek\"}},\n",
    "        {\"span_term\": {\"content\": \"na\"}},\n",
    "        {\"span_term\": {\"content\": \"zdrowiu\"}},\n",
    "    ],\n",
    "    slop=2,\n",
    "    in_order=True,\n",
    ")\n",
    "print(s.query(span).to_dict())\n",
    "permanent_damage_with_span = s.query(span).execute()"
   ]
  },
  {
   "cell_type": "code",
   "execution_count": 172,
   "metadata": {},
   "outputs": [
    {
     "data": {
      "text/plain": [
       "0"
      ]
     },
     "execution_count": 172,
     "metadata": {},
     "output_type": "execute_result"
    }
   ],
   "source": [
    "permanent_damage_with_span.hits.total"
   ]
  },
  {
   "cell_type": "code",
   "execution_count": 63,
   "metadata": {},
   "outputs": [
    {
     "name": "stdout",
     "output_type": "stream",
     "text": [
      "{'query': {'match_phrase': {'content': {'query': 'trwały uszczerbek na zdrowie', 'slop': 2}}}, 'explain': True}\n"
     ]
    }
   ],
   "source": [
    "m = {\n",
    "    \"match_phrase\": {\n",
    "        \"content\": {\n",
    "            \"query\": \"trwały uszczerbek na zdrowie\",\n",
    "            \"slop\": 2\n",
    "        }\n",
    "    }\n",
    "}\n",
    "print(s.query(m).to_dict())\n",
    "permanent_damage_with_slop = s.query(m).execute()"
   ]
  },
  {
   "cell_type": "code",
   "execution_count": 65,
   "metadata": {},
   "outputs": [
    {
     "data": {
      "text/plain": [
       "24"
      ]
     },
     "execution_count": 65,
     "metadata": {},
     "output_type": "execute_result"
    }
   ],
   "source": [
    "permanent_damage_with_slop.hits.total"
   ]
  },
  {
   "cell_type": "markdown",
   "metadata": {},
   "source": [
    "### Określ 3 sędziów, którzy wydali największą liczbę orzeczeń w danym roku, wraz z liczbą wydanych orzeczeń.\n"
   ]
  },
  {
   "cell_type": "code",
   "execution_count": 182,
   "metadata": {},
   "outputs": [],
   "source": [
    "query = Judgment.search()\n",
    "query.aggs.bucket('most_active_judges', 'terms', field='judge.name.keyword', size=3)\n",
    "response = query.execute()"
   ]
  },
  {
   "cell_type": "code",
   "execution_count": 184,
   "metadata": {},
   "outputs": [
    {
     "name": "stdout",
     "output_type": "stream",
     "text": [
      "{'key': 'Marta Romańska', 'doc_count': 229}\n",
      "{'key': 'Grzegorz Misiurek', 'doc_count': 198}\n",
      "{'key': 'Jan Górowski', 'doc_count': 174}\n"
     ]
    }
   ],
   "source": [
    "for hit in response.aggregations.most_active_judges:\n",
    "    print(hit)"
   ]
  },
  {
   "cell_type": "markdown",
   "metadata": {},
   "source": [
    "### Przedstaw histogram liczby orzeczeń w zależności od miesiąca.\n",
    "\n",
    "```json\n",
    "GET judgments/_search\n",
    "{\n",
    "  \"size\": 0,\n",
    "  \"aggs\": {\n",
    "    \"judgments_by_month\": {\n",
    "      \"date_histogram\": {\n",
    "        \"field\": \"date\",\n",
    "        \"interval\": \"month\"\n",
    "      }\n",
    "    }\n",
    "  }\n",
    "}\n",
    "```"
   ]
  },
  {
   "cell_type": "code",
   "execution_count": 13,
   "metadata": {},
   "outputs": [],
   "source": [
    "query = Judgment.search()\n",
    "query.aggs.bucket(\n",
    "    'judgments_by_month',\n",
    "    'date_histogram',\n",
    "    field='judgment_date',\n",
    "    interval='month',\n",
    ")\n",
    "response = query.execute()\n"
   ]
  },
  {
   "cell_type": "code",
   "execution_count": 46,
   "metadata": {},
   "outputs": [
    {
     "data": {
      "image/png": "[encoded data removed]",
      "text/plain": [
       "<Figure size 432x288 with 1 Axes>"
      ]
     },
     "metadata": {},
     "output_type": "display_data"
    }
   ],
   "source": [
    "import matplotlib.pyplot as plt\n",
    "\n",
    "buckets = response.aggregations.judgments_by_month['buckets']\n",
    "doc_counts = [bucket.doc_count for bucket in buckets]    \n",
    "\n",
    "\n",
    "plt.xticks(list(range(1,13)))\n",
    "plt.bar(list(range(1,13)), doc_counts, align='center', alpha=0.7)\n",
    "plt.xlabel('Month')\n",
    "\n",
    "plt.ylabel('Judgment count')\n",
    "\n",
    "plt.title('Judgment count per month in 2011')\n",
    "plt.show()\n"
   ]
  }
 ],
 "metadata": {
  "kernelspec": {
   "display_name": "Python 3",
   "language": "python",
   "name": "python3"
  },
  "language_info": {
   "codemirror_mode": {
    "name": "ipython",
    "version": 3
   },
   "file_extension": ".py",
   "mimetype": "text/x-python",
   "name": "python",
   "nbconvert_exporter": "python",
   "pygments_lexer": "ipython3",
   "version": "3.6.4"
  }
 },
 "nbformat": 4,
 "nbformat_minor": 2
}
