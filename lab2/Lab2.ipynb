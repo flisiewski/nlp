{
 "cells": [
  {
   "cell_type": "code",
   "execution_count": 119,
   "metadata": {},
   "outputs": [],
   "source": [
    "from elasticsearch import Elasticsearch\n",
    "from elasticsearch_dsl import connections\n",
    "client = Elasticsearch()\n",
    "\n",
    "connections.configure(\n",
    "    default={'hosts': 'localhost'},\n",
    ")"
   ]
  },
  {
   "cell_type": "code",
   "execution_count": 120,
   "metadata": {},
   "outputs": [],
   "source": [
    "from elasticsearch_dsl import analyzer\n",
    "analyzer = analyzer(\n",
    "    'std_pl',\n",
    "    tokenizer=\"standard\",\n",
    "    filter=[\"morfologik_stem\"],\n",
    ")"
   ]
  },
  {
   "cell_type": "code",
   "execution_count": 121,
   "metadata": {},
   "outputs": [
    {
     "name": "stdout",
     "output_type": "stream",
     "text": [
      "{'settings': {'analysis': {'analyzer': {'std_pl': {'tokenizer': 'standard', 'filter': ['morfologik_stem'], 'type': 'custom'}}}}}\n"
     ]
    }
   ],
   "source": [
    "from elasticsearch_dsl import Index\n",
    "judgments = Index('judgments')\n",
    "judgments.analyzer(analyzer)\n",
    "# judgments.delete(ignore=404)\n",
    "print(judgments.to_dict())\n",
    "# judgments.create()\n"
   ]
  },
  {
   "cell_type": "code",
   "execution_count": 146,
   "metadata": {},
   "outputs": [],
   "source": [
    "from elasticsearch_dsl import DocType, Text, Date, Keyword, Nested, InnerDoc\n",
    "\n",
    "judgments.close()\n",
    "\n",
    "class Judge(InnerDoc):\n",
    "    name = Keyword(analyzer=analyzer)\n",
    "\n",
    "@judgments.doc_type\n",
    "class Judgment(DocType):\n",
    "    content = Text(analyzer='std_pl', fielddata=True)\n",
    "    judgment_date = Date()\n",
    "    signature = Keyword()\n",
    "    judges = Nested(Judge)\n",
    "\n",
    "    class Meta:\n",
    "        index = 'judgments'"
   ]
  },
  {
   "cell_type": "code",
   "execution_count": 123,
   "metadata": {},
   "outputs": [],
   "source": [
    "# configs \n",
    "DATA_DIR = \"/run/media/maciej/Nowy/data/json/\"\n",
    "CHOSEN_YEAR = str(2011)\n",
    "FILE_LIST = 'files.pickle'\n"
   ]
  },
  {
   "cell_type": "code",
   "execution_count": 124,
   "metadata": {},
   "outputs": [
    {
     "name": "stderr",
     "output_type": "stream",
     "text": [
      "100%|██████████| 3192/3192 [03:45<00:00, 14.13it/s]\n"
     ]
    },
    {
     "data": {
      "text/plain": [
       "[]"
      ]
     },
     "execution_count": 124,
     "metadata": {},
     "output_type": "execute_result"
    }
   ],
   "source": [
    "import json\n",
    "import os\n",
    "import pickle\n",
    "\n",
    "from tqdm import tqdm\n",
    "\n",
    "judgments.open()\n",
    "\n",
    "def load_data():    \n",
    "    files = pickle.load(open(FILE_LIST, 'rb'))\n",
    "    files = os.listdir(DATA_DIR)\n",
    "    results = []\n",
    "    for file in tqdm(files):\n",
    "        if file.startswith(\"judgment\"):\n",
    "            file_path = os.path.join(DATA_DIR, file)\n",
    "\n",
    "            with open(file_path, 'r') as f:\n",
    "                data = json.load(f)\n",
    "                judgments = [x for x in data[\"items\"] if x[\"judgmentDate\"].startswith(CHOSEN_YEAR)]\n",
    "\n",
    "            for judgment in judgments:\n",
    "                Judgment(\n",
    "                    content=judgment['textContent'],\n",
    "                    judgment_date=judgment['judgmentDate'],\n",
    "                    signature=judgment['id'],\n",
    "                    judge=[Judge(name=judge['name']) for judge in judgment['judges']],\n",
    "                ).save()\n",
    "    return results\n",
    "\n",
    "load_data()"
   ]
  },
  {
   "cell_type": "markdown",
   "metadata": {},
   "source": [
    "### 6. Znajdź liczbę orzeczeń, w których występuje słowo szkoda.\n",
    "```\n",
    "GET judgments/_search \n",
    "{\n",
    "  \"query\": {\n",
    "    \"match\": {\n",
    "      \"content\": \"szkoda\"\n",
    "    }\n",
    "  }, \n",
    "  \"explain\": true\n",
    "}\n",
    "```"
   ]
  },
  {
   "cell_type": "code",
   "execution_count": 132,
   "metadata": {},
   "outputs": [
    {
     "name": "stdout",
     "output_type": "stream",
     "text": [
      "{'query': {'match': {'content': 'szkoda'}}, 'explain': True}\n",
      "1828\n"
     ]
    }
   ],
   "source": [
    "s = Judgment.search().extra(explain=True)\n",
    "query_content = s.query(\"match\", content=\"szkoda\")\n",
    "print(query_content.to_dict())\n",
    "szkoda_occurences = query_content.execute()\n",
    "\n",
    "print(szkoda_occurences.hits.total)"
   ]
  },
  {
   "cell_type": "markdown",
   "metadata": {},
   "source": [
    "### 7. Znajdź liczbę orzeczeń, w których występuje fraza trwały uszczerbek na zdrowiu, dokładnie w tej kolejności ale w dowolnej formie fleksyjnej.\n",
    "\n",
    "```\n",
    "GET judgments/_search\n",
    "{\n",
    "    \"query\": {\n",
    "        \"match_phrase\": {\n",
    "            \"content\": \"trwały uszczerbek na zdrowiu\"\n",
    "        }\n",
    "    }\n",
    "}\n",
    "```"
   ]
  },
  {
   "cell_type": "code",
   "execution_count": 126,
   "metadata": {},
   "outputs": [
    {
     "name": "stdout",
     "output_type": "stream",
     "text": [
      "{'query': {'match_phrase': {'content': 'trwały uszczerbek na zdrowiu'}}, 'explain': True}\n"
     ]
    }
   ],
   "source": [
    "from elasticsearch_dsl.query import Match, Q, MatchPhrase\n",
    "# q = Q(\n",
    "#     \"match_phrase\", \n",
    "#     query={\"content\": \"trwały uszczerbek na zdrowiu\"},\n",
    "# )\n",
    "\n",
    "# permanent_damage = s.query(q).execute()\n",
    "m = MatchPhrase(\n",
    "    content=\"trwały uszczerbek na zdrowiu\"\n",
    ")\n",
    "print(s.query(m).to_dict())\n",
    "permanent_damage = s.query(m).execute()"
   ]
  },
  {
   "cell_type": "code",
   "execution_count": 127,
   "metadata": {},
   "outputs": [
    {
     "data": {
      "text/plain": [
       "24"
      ]
     },
     "execution_count": 127,
     "metadata": {},
     "output_type": "execute_result"
    }
   ],
   "source": [
    "permanent_damage.hits.total"
   ]
  },
  {
   "cell_type": "markdown",
   "metadata": {},
   "source": [
    "### 8. Jak wyżej, ale z uwzględnieniem możliwości wystąpienia maksymalnie 2 dodatkowych słów pomiędzy dowolnymi elementami frazy.\n",
    "```\n",
    "GET /_search\n",
    "{\n",
    "    \"query\": {\n",
    "        \"span_near\" : {\n",
    "            \"clauses\" : [\n",
    "                { \"span_term\" : { \"content\" : \"trwały\" } },\n",
    "                { \"span_term\" : { \"content\" : \"uszczerbek\" } },\n",
    "                { \"span_term\" : { \"content\" : \"na\" } },\n",
    "                { \"span_term\" : { \"content\" : \"zdrowiu\" } }\n",
    "            ],\n",
    "            \"slop\" : 2,\n",
    "            \"in_order\" : true\n",
    "        }\n",
    "    }\n",
    "}\n",
    "```"
   ]
  },
  {
   "cell_type": "code",
   "execution_count": 128,
   "metadata": {},
   "outputs": [
    {
     "name": "stdout",
     "output_type": "stream",
     "text": [
      "{'query': {'span_near': {'clauses': [{'span_term': {'content': 'trwały'}}, {'span_term': {'content': 'uszczerbek'}}, {'span_term': {'content': 'na'}}, {'span_term': {'content': 'zdrowie'}}], 'slop': 2, 'in_order': True}}, 'explain': True}\n"
     ]
    }
   ],
   "source": [
    "from elasticsearch_dsl.query import SpanNear\n",
    "span = SpanNear(\n",
    "    clauses=[\n",
    "        {\"span_term\": {\"content\": \"trwały\"}},\n",
    "        {\"span_term\": {\"content\": \"uszczerbek\"}},\n",
    "        {\"span_term\": {\"content\": \"na\"}},\n",
    "        {\"span_term\": {\"content\": \"zdrowie\"}},\n",
    "    ],\n",
    "    slop=2,\n",
    "    in_order=True,\n",
    ")\n",
    "print(s.query(span).to_dict())\n",
    "permanent_damage_with_span = s.query(span).execute()"
   ]
  },
  {
   "cell_type": "code",
   "execution_count": 134,
   "metadata": {},
   "outputs": [
    {
     "data": {
      "text/plain": [
       "24"
      ]
     },
     "execution_count": 134,
     "metadata": {},
     "output_type": "execute_result"
    }
   ],
   "source": [
    "permanent_damage_with_span.hits.total"
   ]
  },
  {
   "cell_type": "code",
   "execution_count": 143,
   "metadata": {},
   "outputs": [],
   "source": [
    "from elasticsearch_dsl import aggs, Search\n",
    "body = {\n",
    "    \"size\": 0,\n",
    "    \"aggs\": {\n",
    "        \"judge\": {\n",
    "            \"terms\": {\n",
    "                \"field\": \"judge.name.keyword\",\n",
    "            }\n",
    "        }\n",
    "    }\n",
    "}\n",
    "query = Search.from_dict(body).index(\"judgments\").doc_type(\"judgment\")\n",
    "judges = query.execute()"
   ]
  },
  {
   "cell_type": "code",
   "execution_count": 145,
   "metadata": {},
   "outputs": [
    {
     "data": {
      "text/plain": [
       "[]"
      ]
     },
     "execution_count": 145,
     "metadata": {},
     "output_type": "execute_result"
    }
   ],
   "source": []
  }
 ],
 "metadata": {
  "kernelspec": {
   "display_name": "Python 3",
   "language": "python",
   "name": "python3"
  },
  "language_info": {
   "codemirror_mode": {
    "name": "ipython",
    "version": 3
   },
   "file_extension": ".py",
   "mimetype": "text/x-python",
   "name": "python",
   "nbconvert_exporter": "python",
   "pygments_lexer": "ipython3",
   "version": "3.6.4"
  }
 },
 "nbformat": 4,
 "nbformat_minor": 2
}
