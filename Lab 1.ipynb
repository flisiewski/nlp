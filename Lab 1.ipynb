{
 "cells": [
  {
   "cell_type": "code",
   "execution_count": 1,
   "metadata": {},
   "outputs": [],
   "source": [
    "DATA_DIR = \"/run/media/maciej/Nowy/data/json/\"\n",
    "OUTPUT_FILE = \"results.txt\""
   ]
  },
  {
   "cell_type": "code",
   "execution_count": 2,
   "metadata": {},
   "outputs": [],
   "source": [
    "import json\n",
    "import os\n",
    "from tqdm import tqdm\n",
    "\n",
    "import matplotlib.pyplot as plt\n",
    "import numpy as np\n",
    "\n",
    "\n",
    "def run_on_files(func, ):\n",
    "    file_idx = 0\n",
    "    \n",
    "    files = os.listdir(DATA_DIR)\n",
    "    results = []\n",
    "    for file in tqdm(files):\n",
    "        if file.startswith(\"judgment\"):\n",
    "        \n",
    "            file_path = os.path.join(DATA_DIR, file)\n",
    "            \n",
    "            with open(file_path, 'r') as f:\n",
    "                data = json.load(f)\n",
    "                results.append(func(data))\n",
    "                \n",
    "    return results\n",
    "                \n",
    "\n"
   ]
  },
  {
   "cell_type": "markdown",
   "metadata": {},
   "source": [
    "# 1. Szukanie kwot z roku 2011\n",
    "\n",
    ">Wydostań wszystkie wartości pieniężne wyrażone w złotych pojawiające się tekstach orzeczeń określonego roku, znormalizuj je i..."
   ]
  },
  {
   "cell_type": "code",
   "execution_count": 3,
   "metadata": {},
   "outputs": [],
   "source": [
    "def normalize(amount, pennies, factor):\n",
    "#     filtered_value = [character for character in amount if character not in \". \"]\n",
    "    pattern = re.compile(r';|’|\\.|\\s+')\n",
    "    filtered_value = re.sub(pattern, '', amount)\n",
    "    joined_digits = \"\".join(filtered_value)\n",
    "    \n",
    "    full_money_value = int(joined_digits)\n",
    "    \n",
    "    factor_mappings = {\n",
    "        'mld': 10**9,\n",
    "        'mln': 10**6,\n",
    "        'tys': 10**3,\n",
    "    }\n",
    "    factor = factor_mappings.get(factor, 1)\n",
    "    \n",
    "    if pennies is None:\n",
    "        pennies = 0\n",
    "    penny_value = float(\"0.{}\".format(pennies))\n",
    "    \n",
    "    return (full_money_value + penny_value) * factor"
   ]
  },
  {
   "cell_type": "code",
   "execution_count": 4,
   "metadata": {},
   "outputs": [
    {
     "name": "stdout",
     "output_type": "stream",
     "text": [
      "(?P<money>\\d+((?P<separator>[;’\\.\\s])\\d{3}((?P=separator)\\d{3})*)?\\s*)(\\,\\s*(?P<pennies>\\d{2,}))?\\s*((?P<factor>tys|mld|mln)\\.?\\s*)?zł(pty|oty|[^a-zA-Z]|o-\\s+tych)\n"
     ]
    }
   ],
   "source": [
    "NUMBER = \"\"\"(?P<money>\\d+((?P<separator>[;’\\.\\s])\\d{3}((?P=separator)\\d{3})*)?\\s*)\"\"\"\n",
    "PENNIES = \"(\\,\\s*(?P<pennies>\\d{2,}))?\\s*\"\n",
    "FACTOR = \"((?P<factor>tys|mld|mln)\\.?\\s*)?\"\n",
    "\n",
    "ENDINGS = [\n",
    "    \"pty\", # złptych\n",
    "    \"oty\", # złotych\n",
    "    \"[^a-zA-Z]\", # zł. zł, zł \n",
    "    \"o-\\s+tych\", # zło-\\ntych\n",
    "]\n",
    "JOINED_ENDINGS = \"|\".join(ending for ending in ENDINGS)\n",
    "CURRENCY = \"zł(\" + JOINED_ENDINGS + \")\"\n",
    "\n",
    "DETAILED_MONEY_REGEX = NUMBER + PENNIES + FACTOR + CURRENCY\n",
    "print(DETAILED_MONEY_REGEX)\n"
   ]
  },
  {
   "cell_type": "code",
   "execution_count": 5,
   "metadata": {},
   "outputs": [
    {
     "name": "stderr",
     "output_type": "stream",
     "text": [
      "100%|██████████| 3192/3192 [01:44<00:00, 30.57it/s]\n"
     ]
    }
   ],
   "source": [
    "import re\n",
    "\n",
    "def money_search(data):\n",
    "    judgments = [x[\"textContent\"] for x in data[\"items\"] if x[\"judgmentDate\"].startswith(\"2011\")]\n",
    "    \n",
    "    for judgment in judgments:                        \n",
    "        data = judgment\n",
    "        with open(OUTPUT_FILE, 'a') as f:        \n",
    "            for match in re.finditer(DETAILED_MONEY_REGEX, data, re.DOTALL):\n",
    "                amount, pennies, factor = match.group('money', 'pennies', 'factor')\n",
    "                \n",
    "                normalized = normalize(amount, pennies, factor)\n",
    "                f.write(\"{}\\n\".format(normalized))\n",
    "\n",
    "    \n",
    "_ = run_on_files(money_search)"
   ]
  },
  {
   "cell_type": "code",
   "execution_count": 15,
   "metadata": {},
   "outputs": [],
   "source": [
    "def load_amounts():\n",
    "    with open(OUTPUT_FILE, 'r') as f:\n",
    "        data = [float(amount) for amount in f.readlines()]\n",
    "    return data"
   ]
  },
  {
   "cell_type": "code",
   "execution_count": 18,
   "metadata": {},
   "outputs": [
    {
     "name": "stdout",
     "output_type": "stream",
     "text": [
      "Found 54551 money amounts in the dataset.\n"
     ]
    }
   ],
   "source": [
    "amounts = load_amounts()\n",
    "print(\"Found {} money amounts in the dataset.\".format(len(amounts)))"
   ]
  },
  {
   "cell_type": "markdown",
   "metadata": {},
   "source": [
    "# (1&2) Histogramy\n",
    ">1. Wydostań wszystkie wartości pieniężne wyrażone w złotych pojawiające się tekstach orzeczeń określonego roku, znormalizuj je i przedstaw ich rozkład w postaci histogramu.\n",
    ">2. Jak w punkcie 1. ale zrób osobny wykres dla wartości do 1 mln zł. oraz powyżej 1 mln zł."
   ]
  },
  {
   "cell_type": "code",
   "execution_count": 7,
   "metadata": {},
   "outputs": [
    {
     "data": {
      "image/png": "[encoded data removed]",
      "text/plain": [
       "<matplotlib.figure.Figure at 0x7f70123dbb38>"
      ]
     },
     "metadata": {},
     "output_type": "display_data"
    }
   ],
   "source": [
    "amounts = load_amounts()\n",
    "plt.hist(amounts, bins=[10**x for x in range(0, 16)], log=True)\n",
    "plt.title(\"Histogram of all of the amounts\")\n",
    "plt.xscale(\"log\")\n",
    "plt.show()"
   ]
  },
  {
   "cell_type": "code",
   "execution_count": 8,
   "metadata": {},
   "outputs": [
    {
     "data": {
      "image/png": "[encoded data removed]",
      "text/plain": [
       "<matplotlib.figure.Figure at 0x7f701299cda0>"
      ]
     },
     "metadata": {},
     "output_type": "display_data"
    }
   ],
   "source": [
    "amounts = [amount for amount in load_amounts() if amount >= 10**6]\n",
    "plt.hist(amounts, bins=[10**x for x in range(6, 16)], log=True)\n",
    "plt.title(\"Histogram of all of the amounts above one million\")\n",
    "plt.xscale(\"log\")\n",
    "plt.show()"
   ]
  },
  {
   "cell_type": "code",
   "execution_count": 17,
   "metadata": {
    "scrolled": true
   },
   "outputs": [
    {
     "data": {
      "image/png": "[encoded data removed]",
      "text/plain": [
       "<matplotlib.figure.Figure at 0x7f70129429b0>"
      ]
     },
     "metadata": {},
     "output_type": "display_data"
    }
   ],
   "source": [
    "amounts = [amount for amount in load_amounts() if amount < 10**6]\n",
    "plt.hist(amounts, bins=30, log=True)\n",
    "plt.title(\"Below one million\")\n",
    "plt.show()"
   ]
  },
  {
   "cell_type": "markdown",
   "metadata": {},
   "source": [
    "# 3. Ustawa\n",
    "> Określ liczbę orzeczeń odwołujących się w 2011 roku do artykułu 445 Ustawy z dnia 23 kwietnia 1964 r. - Kodeks cywilny."
   ]
  },
  {
   "cell_type": "code",
   "execution_count": 10,
   "metadata": {},
   "outputs": [
    {
     "name": "stderr",
     "output_type": "stream",
     "text": [
      "100%|██████████| 3192/3192 [01:48<00:00, 29.48it/s]"
     ]
    },
    {
     "name": "stdout",
     "output_type": "stream",
     "text": [
      "76\n"
     ]
    },
    {
     "name": "stderr",
     "output_type": "stream",
     "text": [
      "\n"
     ]
    }
   ],
   "source": [
    "act_regex = r\"Ust(awa|\\.) z dnia 23 kwietnia 1964\"\n",
    "code = \".*cywiln.*\"\n",
    "article = \"(?P<article>art\\.\\s*445)\"\n",
    "regex = act_regex + \".*\" + code + article\n",
    "def references_func(data):\n",
    "    judgmentReferences = [x[\"referencedRegulations\"] for x in data[\"items\"] if x[\"judgmentDate\"].startswith(\"2011\")]\n",
    "    \n",
    "    total = 0\n",
    "    for references in judgmentReferences:\n",
    "        referenced = False\n",
    "        for reference in references:\n",
    "            if re.search(regex, reference['text'], re.IGNORECASE):\n",
    "                referenced = True\n",
    "        if referenced:\n",
    "            total += 1\n",
    "    return total\n",
    "            \n",
    "print(sum(run_on_files(references_func)))"
   ]
  },
  {
   "cell_type": "markdown",
   "metadata": {},
   "source": [
    "# 4. Szkoda\n",
    "> Określ liczbę orzeczeń w określonym roku, które zawierają słowo szkoda w dowolnej formie fleksyjnej. Wynik ten nie może obejmować innych słów, które mają wspólny prefiks ze słowem szkoda, np. szkodzić, szkodzący, itp.\n"
   ]
  },
  {
   "cell_type": "code",
   "execution_count": 11,
   "metadata": {},
   "outputs": [
    {
     "name": "stderr",
     "output_type": "stream",
     "text": [
      "100%|██████████| 3192/3192 [01:42<00:00, 31.07it/s]"
     ]
    },
    {
     "name": "stdout",
     "output_type": "stream",
     "text": [
      "1824\n"
     ]
    },
    {
     "name": "stderr",
     "output_type": "stream",
     "text": [
      "\n"
     ]
    }
   ],
   "source": [
    "szkoda_regex = r\"\\b(szkod(a|y|zie|ę|ą|o|om|ach|ami)|szkód)\\b\"\n",
    "def szkoda_func(data):\n",
    "    judgments = [x[\"textContent\"] for x in data[\"items\"] if x[\"judgmentDate\"].startswith(\"2011\")]\n",
    "\n",
    "    mentions = 0\n",
    "    for judgment in judgments:\n",
    "        if re.search(szkoda_regex, judgment):\n",
    "            mentions += 1\n",
    "    return mentions\n",
    "mentions = run_on_files(szkoda_func)\n",
    "print(sum(mentions))"
   ]
  },
  {
   "cell_type": "markdown",
   "metadata": {},
   "source": [
    "# 5. Zajęcia - szukanie liczby kwot z roku 2004"
   ]
  },
  {
   "cell_type": "code",
   "execution_count": 12,
   "metadata": {},
   "outputs": [
    {
     "name": "stderr",
     "output_type": "stream",
     "text": [
      "100%|██████████| 3192/3192 [01:40<00:00, 31.82it/s]\n"
     ]
    }
   ],
   "source": [
    "import re\n",
    "\n",
    "def money_occurrence_2004(data):\n",
    "    judgments = [x[\"textContent\"] for x in data[\"items\"] if x[\"judgmentDate\"].startswith(\"2004\")]\n",
    "    \n",
    "    results = 0\n",
    "    for judgment in judgments:                        \n",
    "        data = judgment\n",
    "        with open(OUTPUT_FILE, 'a') as f:        \n",
    "            for match in re.finditer(DETAILED_MONEY_REGEX, data, re.DOTALL):\n",
    "                amount, pennies, factor = match.group('money', 'pennies', 'factor')\n",
    "                \n",
    "                normalized = normalize(amount, pennies, factor)\n",
    "                results += 1\n",
    "                \n",
    "    return results\n",
    "\n",
    "    \n",
    "money_in_2004 = run_on_files(money_occurrence_2004)\n"
   ]
  },
  {
   "cell_type": "code",
   "execution_count": 13,
   "metadata": {},
   "outputs": [
    {
     "name": "stdout",
     "output_type": "stream",
     "text": [
      "2149\n"
     ]
    }
   ],
   "source": [
    "print(sum(money_in_2004))"
   ]
  }
 ],
 "metadata": {
  "kernelspec": {
   "display_name": "Python 3",
   "language": "python",
   "name": "python3"
  },
  "language_info": {
   "codemirror_mode": {
    "name": "ipython",
    "version": 3
   },
   "file_extension": ".py",
   "mimetype": "text/x-python",
   "name": "python",
   "nbconvert_exporter": "python",
   "pygments_lexer": "ipython3",
   "version": "3.6.4"
  }
 },
 "nbformat": 4,
 "nbformat_minor": 2
}
