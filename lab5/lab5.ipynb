{
 "cells": [
  {
   "cell_type": "code",
   "execution_count": 45,
   "metadata": {},
   "outputs": [],
   "source": [
    "import requests\n",
    "\n",
    "PORT = \"9200\"\n",
    "URL = \"http://localhost:\" + PORT + \"/\"\n",
    "\n",
    "def parse_analysis(string):\n",
    "    base, form, _disamb = [word.strip() for word in string.split(\"\\t\") if word != \"\"]\n",
    "    return (base, form)\n",
    "\n",
    "def analyze(string):\n",
    "    content = requests.post(URL, data=string).text\n",
    "    analyzed_words = [parse_analysis(analysis) for analysis in content.split(\"\\n\")[1::2] if analysis != \"\"]\n",
    "    \n",
    "    return analyzed_words\n",
    "    "
   ]
  },
  {
   "cell_type": "code",
   "execution_count": 46,
   "metadata": {},
   "outputs": [
    {
     "data": {
      "text/plain": [
       "[('Ala', 'subst:sg:nom:f'),\n",
       " ('mieć', 'fin:sg:ter:imperf'),\n",
       " ('kot', 'subst:sg:acc:m2')]"
      ]
     },
     "execution_count": 46,
     "metadata": {},
     "output_type": "execute_result"
    }
   ],
   "source": [
    "analyze(\"Ala ma kota\")"
   ]
  }
 ],
 "metadata": {
  "kernelspec": {
   "display_name": "Python 3",
   "language": "python",
   "name": "python3"
  },
  "language_info": {
   "codemirror_mode": {
    "name": "ipython",
    "version": 3
   },
   "file_extension": ".py",
   "mimetype": "text/x-python",
   "name": "python",
   "nbconvert_exporter": "python",
   "pygments_lexer": "ipython3",
   "version": "3.6.4"
  }
 },
 "nbformat": 4,
 "nbformat_minor": 2
}
