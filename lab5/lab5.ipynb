{
 "cells": [
  {
   "cell_type": "code",
   "execution_count": 2,
   "metadata": {},
   "outputs": [],
   "source": [
    "import requests\n",
    "\n",
    "PORT = \"9200\"\n",
    "URL = \"http://localhost:\" + PORT + \"/\"\n",
    "\n",
    "def parse_analysis(string):\n",
    "    split_input = [x.strip() for x in string.split(\"\\t\") if x != \"\"]\n",
    "    \n",
    "    if len(split_input) != 3:\n",
    "        return ()\n",
    "    \n",
    "    base, form_explicit, _disamb = split_input\n",
    "    form = form_explicit.split(\":\")[0]\n",
    "    \n",
    "    return (base, form)\n",
    "\n",
    "def analyze(string):\n",
    "    content = requests.post(URL, data=string.encode('utf-8')).text\n",
    "    analyzed_words = [parse_analysis(analysis) for analysis in content.split(\"\\n\")[1::2] if analysis != \"\"]\n",
    "    \n",
    "    return [analysis for analysis in analyzed_words if analysis != ()]\n",
    "    \n",
    "def is_valid_unigram(unigram):\n",
    "    word, analysis = unigram\n",
    "    return analysis != \"interp\" and not analysis.startswith(\"num\")\n"
   ]
  },
  {
   "cell_type": "code",
   "execution_count": 5,
   "metadata": {},
   "outputs": [
    {
     "data": {
      "text/plain": [
       "[('Ala', 'subst'), ('mieć', 'fin'), ('kot', 'subst')]"
      ]
     },
     "execution_count": 5,
     "metadata": {},
     "output_type": "execute_result"
    }
   ],
   "source": [
    "analyze(\"ala ma kota\\n\\n\\n\\n12     123.\")"
   ]
  },
  {
   "cell_type": "code",
   "execution_count": 127,
   "metadata": {},
   "outputs": [],
   "source": [
    "FILE_LIST = 'files.p'\n",
    "DATA_DIR = \"/run/media/maciej/Nowy/data/json/\"\n",
    "CHOSEN_YEAR = \"2011\""
   ]
  },
  {
   "cell_type": "code",
   "execution_count": 129,
   "metadata": {},
   "outputs": [
    {
     "name": "stderr",
     "output_type": "stream",
     "text": [
      "100%|██████████| 68/68 [00:01<00:00, 56.13it/s]\n",
      "100%|██████████| 6699/6699 [5:21:51<00:00,  2.88s/it]  \n"
     ]
    }
   ],
   "source": [
    "import os, json, pickle\n",
    "from collections import defaultdict\n",
    "\n",
    "import regex\n",
    "from tqdm import tqdm\n",
    "\n",
    "word_pattern = \"\\p{Letter}+\"\n",
    "\n",
    "\n",
    "def load_data():\n",
    "    total_judgments = []\n",
    "    files = pickle.load(open(FILE_LIST, 'rb'))\n",
    "    \n",
    "    for file in tqdm(files):\n",
    "        if file.startswith(\"judgment\"):\n",
    "            file_path = os.path.join(DATA_DIR, file)\n",
    "\n",
    "            with open(file_path, 'r') as f:\n",
    "                data = json.load(f)\n",
    "                judgments = [x[\"textContent\"] for x in data[\"items\"] if x[\"judgmentDate\"].startswith(CHOSEN_YEAR)]\n",
    "            total_judgments += judgments\n",
    "            \n",
    "    analyzed_judgments = []\n",
    "    \n",
    "#     i = 50\n",
    "    for judgment in tqdm(total_judgments):\n",
    "        previous_word = None\n",
    "\n",
    "        judgment = regex.sub(\"<.*?>\", \"\", judgment)\n",
    "        judgment = regex.sub(\"-\\n(\\p{Letter}+)\", r\"\\1\", judgment)\n",
    "        judgment = judgment.lower()\n",
    "        \n",
    "        analyzed_judgments.append(analyze(judgment))\n",
    "        \n",
    "#         i -= 1\n",
    "#         if i == 0:\n",
    "#             break\n",
    "    \n",
    "    return analyzed_judgments\n",
    "\n",
    "analyzed_judgments = load_data()"
   ]
  },
  {
   "cell_type": "code",
   "execution_count": 130,
   "metadata": {},
   "outputs": [],
   "source": [
    "# import pickle\n",
    "\n",
    "# with open('analyzed_judgments.p', 'wb') as f:\n",
    "#     pickle.dump(analyzed_judgments, f)"
   ]
  },
  {
   "cell_type": "code",
   "execution_count": 1,
   "metadata": {},
   "outputs": [],
   "source": [
    "import pickle\n",
    "\n",
    "analyzed_judgments = pickle.load(open('analyzed_judgments.p', 'rb'))"
   ]
  },
  {
   "cell_type": "code",
   "execution_count": 18,
   "metadata": {},
   "outputs": [
    {
     "name": "stdout",
     "output_type": "stream",
     "text": [
      "Count of unigrams before filtering: 10951114\n",
      "Count of unigrams after filtering: 8726760\n"
     ]
    }
   ],
   "source": [
    "def get_unigram_count(judgments):\n",
    "    return sum([len(j) for j in judgments])\n",
    "\n",
    "print(\"Count of unigrams before filtering: {}\".format(get_unigram_count(analyzed_judgments)))\n",
    "      \n",
    "filtered_judgments = [[unigram for unigram in j if is_valid_unigram(unigram)] for j in analyzed_judgments]\n",
    "print(\"Count of unigrams after filtering: {}\".format(get_unigram_count(filtered_judgments)))"
   ]
  },
  {
   "cell_type": "code",
   "execution_count": 25,
   "metadata": {},
   "outputs": [
    {
     "name": "stderr",
     "output_type": "stream",
     "text": [
      "100%|██████████| 6699/6699 [00:11<00:00, 563.45it/s]\n"
     ]
    }
   ],
   "source": [
    "from collections import defaultdict\n",
    "\n",
    "from tqdm import tqdm\n",
    "\n",
    "bigrams = defaultdict(lambda: 0)\n",
    "unigrams = defaultdict(lambda: 0)\n",
    "\n",
    "for judgment in tqdm(filtered_judgments):    \n",
    "    previous_unigram = None\n",
    "    \n",
    "    for current_unigram in judgment:\n",
    "        if previous_unigram:\n",
    "            bigrams[(previous_unigram, current_unigram)] += 1\n",
    "        \n",
    "        unigrams[current_unigram] += 1\n",
    "        previous_unigram = current_unigram\n",
    "\n",
    "bigram_count = sum(bigrams.values())"
   ]
  },
  {
   "cell_type": "code",
   "execution_count": 26,
   "metadata": {},
   "outputs": [],
   "source": [
    "import numpy as np\n",
    "\n",
    "\n",
    "def get_k(bigram):\n",
    "    bigram_occurrence_count = bigrams[bigram]\n",
    "    k_11 = bigram_occurrence_count\n",
    "    k_12 = unigrams[bigram[1]] - bigram_occurrence_count\n",
    "    k_21 = unigrams[bigram[0]] - bigram_occurrence_count\n",
    "    k_22 = bigram_count - k_11 - k_12 - k_21\n",
    "\n",
    "    return np.array(\n",
    "        [[k_11, k_12],\n",
    "         [k_21, k_22]]\n",
    "    )\n",
    "\n",
    "\n",
    "def H(k):\n",
    "    \"\"\"Count Shannon's entropy\"\"\"\n",
    "    N = np.sum(k)\n",
    "\n",
    "    return np.sum(k / N * np.log(k / N + (k == 0)))\n",
    "\n",
    "\n",
    "def get_llr(bigram):\n",
    "    k = get_k(bigram)\n",
    "    return 2 * np.sum(k) * (H(k) - H(k.sum(axis=0)) - H(k.sum(axis=1)))\n"
   ]
  },
  {
   "cell_type": "code",
   "execution_count": 34,
   "metadata": {},
   "outputs": [
    {
     "data": {
      "text/plain": [
       "[((('z', 'prep'), ('dzień', 'subst')), 39804),\n",
       " ((('ustęp', 'brev'), ('1', 'adj')), 25432),\n",
       " ((('z', 'prep'), ('artykuł', 'brev')), 20679)]"
      ]
     },
     "execution_count": 34,
     "metadata": {},
     "output_type": "execute_result"
    }
   ],
   "source": [
    "sorted(bigrams.items(), key=lambda x:x[1], reverse=True)[:3]"
   ]
  },
  {
   "cell_type": "code",
   "execution_count": 38,
   "metadata": {},
   "outputs": [
    {
     "data": {
      "text/plain": [
       "164.5663334064712"
      ]
     },
     "execution_count": 38,
     "metadata": {},
     "output_type": "execute_result"
    }
   ],
   "source": [
    "get_llr(((\"krwinka\", \"subst\"), (\"czerwony\", \"adj\")))"
   ]
  },
  {
   "cell_type": "code",
   "execution_count": 40,
   "metadata": {},
   "outputs": [
    {
     "data": {
      "text/plain": [
       "197932.28599531404"
      ]
     },
     "execution_count": 40,
     "metadata": {},
     "output_type": "execute_result"
    }
   ],
   "source": [
    "get_llr((('z', 'prep'), ('dzień', 'subst')))"
   ]
  },
  {
   "cell_type": "code",
   "execution_count": null,
   "metadata": {},
   "outputs": [],
   "source": []
  }
 ],
 "metadata": {
  "kernelspec": {
   "display_name": "Python 3",
   "language": "python",
   "name": "python3"
  },
  "language_info": {
   "codemirror_mode": {
    "name": "ipython",
    "version": 3
   },
   "file_extension": ".py",
   "mimetype": "text/x-python",
   "name": "python",
   "nbconvert_exporter": "python",
   "pygments_lexer": "ipython3",
   "version": "3.6.4"
  }
 },
 "nbformat": 4,
 "nbformat_minor": 2
}
