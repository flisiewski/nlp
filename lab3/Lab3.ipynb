{
 "cells": [
  {
   "cell_type": "code",
   "execution_count": 14,
   "metadata": {},
   "outputs": [
    {
     "name": "stdout",
     "output_type": "stream",
     "text": [
      "4623718\n"
     ]
    }
   ],
   "source": [
    "polish_dictionary = {}\n",
    "with open(\"morfologik.txt\") as f:\n",
    "    for line in f.readlines():\n",
    "        base_word, flex_form, meta = line.split(\";\")\n",
    "        polish_dictionary[flex_form.lower()] = base_word\n",
    "        \n",
    "print(len(polish_dictionary))"
   ]
  },
  {
   "cell_type": "code",
   "execution_count": 15,
   "metadata": {},
   "outputs": [],
   "source": [
    "import regex\n",
    "word_pattern = \"\\p{Letter}{2,}\""
   ]
  },
  {
   "cell_type": "code",
   "execution_count": 16,
   "metadata": {},
   "outputs": [],
   "source": [
    "FILE_LIST = \"files.pickle\"\n",
    "DATA_DIR = \"/run/media/maciej/Nowy/data/json/\"\n",
    "CHOSEN_YEAR = \"2011\""
   ]
  },
  {
   "cell_type": "code",
   "execution_count": 17,
   "metadata": {},
   "outputs": [
    {
     "name": "stderr",
     "output_type": "stream",
     "text": [
      "100%|██████████| 68/68 [00:15<00:00,  4.39it/s]"
     ]
    },
    {
     "name": "stdout",
     "output_type": "stream",
     "text": [
      "139256\n"
     ]
    },
    {
     "name": "stderr",
     "output_type": "stream",
     "text": [
      "\n"
     ]
    }
   ],
   "source": [
    "import os, json\n",
    "\n",
    "import pickle\n",
    "from tqdm import tqdm\n",
    "from collections import defaultdict\n",
    "\n",
    "words_with_counts = defaultdict(lambda: 0)\n",
    "\n",
    "def load_data():    \n",
    "    files = pickle.load(open(FILE_LIST, 'rb'))\n",
    "    for file in tqdm(files):\n",
    "        if file.startswith(\"judgment\"):\n",
    "            file_path = os.path.join(DATA_DIR, file)\n",
    "\n",
    "            with open(file_path, 'r') as f:\n",
    "                data = json.load(f)\n",
    "                judgments = [x[\"textContent\"] for x in data[\"items\"] if x[\"judgmentDate\"].startswith(CHOSEN_YEAR)]\n",
    "\n",
    "            for judgment in judgments:\n",
    "                judgment = regex.sub(\"<.*?>\", \"\", judgment)\n",
    "                \n",
    "                for match in regex.finditer(word_pattern, judgment):\n",
    "                    [word] = match.captures()\n",
    "                    words_with_counts[word.lower()] += 1\n",
    "load_data()\n",
    "print(len(words_with_counts))\n"
   ]
  },
  {
   "cell_type": "code",
   "execution_count": 50,
   "metadata": {},
   "outputs": [
    {
     "name": "stdout",
     "output_type": "stream",
     "text": [
      "114216 words were recognized.\n",
      "25040 were not present in the dictionary.\n"
     ]
    }
   ],
   "source": [
    "polish_words = {}\n",
    "not_recognized = {}\n",
    "\n",
    "for word, counts in words_with_counts.items():\n",
    "    if word in polish_dictionary:\n",
    "        polish_words[word] = counts\n",
    "    else:\n",
    "        not_recognized[word] = counts\n",
    "        \n",
    "print(\"{} words were recognized.\".format(len(polish_words))) \n",
    "print(\"{} were not present in the dictionary.\".format(len(not_recognized)))"
   ]
  },
  {
   "cell_type": "code",
   "execution_count": 18,
   "metadata": {},
   "outputs": [],
   "source": [
    "def sort_by_frequency(words, top=None):\n",
    "    sorted_items = sorted(words.items(), key=lambda x: x[1], reverse=True) \n",
    "    if top:\n",
    "        return sorted_items[:top]\n",
    "    else:\n",
    "        return sorted_items"
   ]
  },
  {
   "cell_type": "code",
   "execution_count": 46,
   "metadata": {},
   "outputs": [
    {
     "data": {
      "image/png": "[encoded data removed]",
      "text/plain": [
       "<Figure size 1440x648 with 1 Axes>"
      ]
     },
     "metadata": {},
     "output_type": "display_data"
    }
   ],
   "source": [
    "import matplotlib.pyplot as plt\n",
    "\n",
    "def sort_and_enumerate(words):\n",
    "    sorted_word_counts = sort_by_frequency(words)\n",
    "    _words, word_counts = zip(*sorted_word_counts)\n",
    "    return zip(*enumerate(word_counts))\n",
    "    \n",
    "# all of the words\n",
    "positions, word_counts = sort_and_enumerate(words_with_counts)\n",
    "plt.plot(positions, word_counts)\n",
    "\n",
    "# # polish words\n",
    "# positions, word_counts = sort_and_enumerate(polish_words)\n",
    "# plt.plot(positions, word_counts)\n",
    "\n",
    "# # unrecognized words\n",
    "# positions, word_counts = sort_and_enumerate(not_recognized)\n",
    "# plt.plot(positions, word_counts)\n",
    "\n",
    "\n",
    "plt.xlabel('Positions of words in sorted frequency list')\n",
    "plt.ylabel('Word counts')\n",
    "plt.yscale('log')\n",
    "# plt.xscale('log')\n",
    "plt.title('Words positions and their frequencies in judgments from 2011')\n",
    "\n",
    "plt.rcParams['ytick.labelsize'] = 15 \n",
    "plt.rcParams['xtick.labelsize'] = 15 \n",
    "\n",
    "plt.rcParams[\"figure.figsize\"] = (20, 9)\n",
    "\n",
    "plt.show()"
   ]
  },
  {
   "cell_type": "code",
   "execution_count": 24,
   "metadata": {},
   "outputs": [
    {
     "name": "stdout",
     "output_type": "stream",
     "text": [
      "Top 10 recognized Polish words: \n",
      "[('na', 253290),\n",
      " ('do', 244364),\n",
      " ('nie', 208698),\n",
      " ('art', 207198),\n",
      " ('że', 149133),\n",
      " ('przez', 143483),\n",
      " ('ust', 106139),\n",
      " ('się', 101380),\n",
      " ('dnia', 94506),\n",
      " ('jest', 93871)]\n"
     ]
    }
   ],
   "source": [
    "from pprint import pprint\n",
    "print(\"Top 10 recognized Polish words: \")\n",
    "pprint(sort_by_frequency(polish_words, top=10))\n"
   ]
  },
  {
   "cell_type": "code",
   "execution_count": 25,
   "metadata": {},
   "outputs": [
    {
     "name": "stdout",
     "output_type": "stream",
     "text": [
      "Top 30 words, which were not recognized: \n",
      "[('pzp', 35834),\n",
      " ('siwz', 26388),\n",
      " ('sygn', 26215),\n",
      " ('zw', 11099),\n",
      " ('ssn', 6102),\n",
      " ('otk', 4902),\n",
      " ('iv', 4493),\n",
      " ('lex', 4430),\n",
      " ('zu', 4359),\n",
      " ('sa', 3852),\n",
      " ('csk', 3562),\n",
      " ('uzp', 3035),\n",
      " ('osnc', 2752),\n",
      " ('sk', 2736),\n",
      " ('czp', 2219),\n",
      " ('ppkt', 2043),\n",
      " ('niepubl', 1987),\n",
      " ('ckn', 1923),\n",
      " ('osnp', 1906),\n",
      " ('uokik', 1895),\n",
      " ('vi', 1715),\n",
      " ('uk', 1657),\n",
      " ('późn', 1647),\n",
      " ('pln', 1537),\n",
      " ('poland', 1530),\n",
      " ('zd', 1525),\n",
      " ('publ', 1473),\n",
      " ('asseco', 1205),\n",
      " ('xvii', 983),\n",
      " ('impel', 955)]\n"
     ]
    }
   ],
   "source": [
    "print(\"Top 30 words, which were not recognized: \")\n",
    "top_unrecognized_words = sort_by_frequency(not_recognized, top=30)\n",
    "pprint(top_unrecognized_words)"
   ]
  },
  {
   "cell_type": "code",
   "execution_count": 51,
   "metadata": {},
   "outputs": [],
   "source": [
    "def levenshtein_family(word, alphabet):\n",
    "    \"Returns all words within levenshtein distance of 1 from the word\"\n",
    "    splits     = [(word[:i], word[i:])    for i in range(len(word) + 1)]\n",
    "\n",
    "    deletes    = [l + r[1:] for l,r in splits if r]\n",
    "    transposes = [l + r[1] + r[0] + r[2:] for l, r in splits if len(r)>1]\n",
    "    replaces   = [l + letter + r[1:] for l, r in splits if r for letter in alphabet]\n",
    "    inserts    = [l + letter + r for l, r in splits for letter in alphabet]\n",
    "\n",
    "    return set(deletes + transposes + replaces + inserts)\n",
    "\n",
    "def get_word_families(words):\n",
    "    \"Returns a union of levenshtein_family for each word in a word list\"\n",
    "    return set(edit for word in words for edit in levenshtein_family(word, alphabet))\n",
    "\n",
    "def get_best_edit(edits):\n",
    "    \"Returns the best edit based on word frequencies in the original text\"\n",
    "    edits.sort(\n",
    "        key=lambda word: polish_words.get(word, 0), \n",
    "        reverse=True,\n",
    "    )\n",
    "    return edits[0]  \n",
    "\n",
    "def is_polish(word):\n",
    "    return word in polish_dictionary"
   ]
  },
  {
   "cell_type": "code",
   "execution_count": 52,
   "metadata": {},
   "outputs": [
    {
     "name": "stdout",
     "output_type": "stream",
     "text": [
      "abcdefghijklmnopqrstuvwxyząćęłóżźśń\n"
     ]
    }
   ],
   "source": [
    "import string\n",
    "\n",
    "alphabet = list(string.ascii_lowercase + \"ąćęłóżźśń\")\n",
    "print(\"\".join(alphabet))"
   ]
  },
  {
   "cell_type": "code",
   "execution_count": 35,
   "metadata": {},
   "outputs": [],
   "source": [
    "def find_correction(word):\n",
    "    one_step_edits = get_word_families([word])\n",
    "    polish_edits = [edit for edit in one_step_edits if is_polish(edit)]\n",
    "\n",
    "    if polish_edits:\n",
    "        return get_best_edit(polish_edits)\n",
    "    \n",
    "    # checking words within 2 steps from the original, since 1 step didn't match\n",
    "    two_step_edits = [edit for edit in get_word_families(one_step_edits)]\n",
    "    polish_edits = [edit for edit in two_step_edits if is_polish(edit)]\n",
    "    \n",
    "    if polish_edits:\n",
    "        return get_best_edit(polish_edits)\n",
    "    \n",
    "    # no matches within 2 steps, return no match at all\n",
    "    return \"\""
   ]
  },
  {
   "cell_type": "code",
   "execution_count": 53,
   "metadata": {
    "scrolled": true
   },
   "outputs": [
    {
     "name": "stdout",
     "output_type": "stream",
     "text": [
      "pzp        -> pkp\n",
      "siwz       -> siw\n",
      "sygn       -> syn\n",
      "zw         -> za\n",
      "ssn        -> sn\n",
      "otk        -> tk\n",
      "iv         -> iż\n",
      "lex        -> lek\n",
      "zu         -> za\n",
      "sa         -> na\n",
      "csk        -> ck\n",
      "uzp        -> uz\n",
      "osnc       -> osób\n",
      "sk         -> sp\n",
      "czp        -> czy\n",
      "ppkt       -> pkt\n",
      "niepubl    -> nielubą\n",
      "ckn        -> cen\n",
      "osnp       -> osp\n",
      "uokik      -> nokia\n",
      "vi         -> ii\n",
      "uk         -> ul\n",
      "późn       -> późno\n",
      "pln        -> pn\n",
      "poland     -> roland\n",
      "zd         -> od\n",
      "publ       -> pub\n",
      "asseco     -> ssąco\n",
      "xvii       -> avii\n",
      "impel      -> impal\n"
     ]
    }
   ],
   "source": [
    "for unrecognized_word, _ in top_unrecognized_words:\n",
    "    correction = find_correction(unrecognized_word)\n",
    "    print(\"{} -> {}\".format(unrecognized_word.ljust(10, \" \"), correction))\n"
   ]
  }
 ],
 "metadata": {
  "kernelspec": {
   "display_name": "Python 3",
   "language": "python",
   "name": "python3"
  },
  "language_info": {
   "codemirror_mode": {
    "name": "ipython",
    "version": 3
   },
   "file_extension": ".py",
   "mimetype": "text/x-python",
   "name": "python",
   "nbconvert_exporter": "python",
   "pygments_lexer": "ipython3",
   "version": "3.6.4"
  }
 },
 "nbformat": 4,
 "nbformat_minor": 2
}
