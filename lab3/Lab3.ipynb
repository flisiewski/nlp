{
 "cells": [
  {
   "cell_type": "code",
   "execution_count": 3,
   "metadata": {},
   "outputs": [],
   "source": [
    "import regex\n",
    "word_pattern = \"\\p{Letter}+\""
   ]
  },
  {
   "cell_type": "code",
   "execution_count": null,
   "metadata": {},
   "outputs": [],
   "source": [
    "polish_dictionary = {}\n",
    "with open(\"morfologik\")"
   ]
  },
  {
   "cell_type": "code",
   "execution_count": null,
   "metadata": {},
   "outputs": [],
   "source": [
    "def load_data():    \n",
    "    files = pickle.load(open(FILE_LIST, 'rb'))\n",
    "    files = os.listdir(DATA_DIR)\n",
    "    results = []\n",
    "    for file in tqdm(files):\n",
    "        if file.startswith(\"judgment\"):\n",
    "            file_path = os.path.join(DATA_DIR, file)\n",
    "\n",
    "            with open(file_path, 'r') as f:\n",
    "                data = json.load(f)\n",
    "                judgments = [x for x in data[\"items\"] if x[\"judgmentDate\"].startswith(CHOSEN_YEAR)]\n",
    "\n",
    "            for judgment in judgments:\n",
    "                Judgment(\n",
    "                    content=judgment['textContent'],\n",
    "                    judgment_date=judgment['judgmentDate'],\n",
    "                    signature=judgment['id'],\n",
    "                    judge=[Judge(name=judge['name']) for judge in judgment['judges']],\n",
    "                ).save()\n",
    "\n",
    "load_data()"
   ]
  }
 ],
 "metadata": {
  "kernelspec": {
   "display_name": "Python 3",
   "language": "python",
   "name": "python3"
  },
  "language_info": {
   "codemirror_mode": {
    "name": "ipython",
    "version": 3
   },
   "file_extension": ".py",
   "mimetype": "text/x-python",
   "name": "python",
   "nbconvert_exporter": "python",
   "pygments_lexer": "ipython3",
   "version": "3.6.4"
  }
 },
 "nbformat": 4,
 "nbformat_minor": 2
}
