{
 "cells": [
  {
   "cell_type": "code",
   "execution_count": 25,
   "metadata": {},
   "outputs": [],
   "source": [
    "FILE_LIST = \"files.p\"\n",
    "DATA_DIR = \"/run/media/maciej/Nowy/data/json/\"\n",
    "CHOSEN_YEAR = \"2011\""
   ]
  },
  {
   "cell_type": "code",
   "execution_count": 26,
   "metadata": {},
   "outputs": [],
   "source": [
    "import regex\n",
    "word_pattern = \"\\p{Letter}+\""
   ]
  },
  {
   "cell_type": "markdown",
   "metadata": {},
   "source": [
    "Oblicz statystykę występowania bigramów słów, pomijając w tekście wszystkie wyrazy, które nie stanowią słów."
   ]
  },
  {
   "cell_type": "code",
   "execution_count": 27,
   "metadata": {},
   "outputs": [
    {
     "name": "stderr",
     "output_type": "stream",
     "text": [
      "100%|██████████| 68/68 [00:36<00:00,  1.87it/s]"
     ]
    },
    {
     "name": "stdout",
     "output_type": "stream",
     "text": [
      "2613738\n"
     ]
    },
    {
     "name": "stderr",
     "output_type": "stream",
     "text": [
      "\n"
     ]
    }
   ],
   "source": [
    "import os, json\n",
    "\n",
    "import pickle\n",
    "from tqdm import tqdm\n",
    "from collections import defaultdict\n",
    "\n",
    "bigrams = defaultdict(lambda: 0)\n",
    "unigrams = defaultdict(lambda: 0)\n",
    "\n",
    "\n",
    "def load_data():\n",
    "    files = pickle.load(open(FILE_LIST, 'rb'))\n",
    "    for file in tqdm(files):\n",
    "        if file.startswith(\"judgment\"):\n",
    "            file_path = os.path.join(DATA_DIR, file)\n",
    "\n",
    "            with open(file_path, 'r') as f:\n",
    "                data = json.load(f)\n",
    "                judgments = [x[\"textContent\"] for x in data[\"items\"] if x[\"judgmentDate\"].startswith(CHOSEN_YEAR)]\n",
    "\n",
    "            for judgment in judgments:\n",
    "                previous_word = None\n",
    "\n",
    "                judgment = regex.sub(\"<.*?>\", \"\", judgment)\n",
    "                judgment = regex.sub(\"-\\n(\\p{Letter}+)\", r\"\\1\", judgment)\n",
    "\n",
    "                for match in regex.finditer(word_pattern, judgment):\n",
    "                    [word] = match.captures()\n",
    "\n",
    "                    if previous_word:\n",
    "                        bigrams[(previous_word, word.lower())] += 1\n",
    "                    unigrams[word.lower()] += 1\n",
    "\n",
    "                    previous_word = word.lower()\n",
    "\n",
    "\n",
    "load_data()\n",
    "print(len(bigrams))\n"
   ]
  },
  {
   "cell_type": "markdown",
   "metadata": {},
   "source": [
    "Korzystając z wzoru na punktową informację wzajemną oblicz tę wartość dla wszystkich par słów. Wykorzystaj statystyki unigramów obliczone w poprzednim zadaniu."
   ]
  },
  {
   "cell_type": "code",
   "execution_count": 28,
   "metadata": {},
   "outputs": [],
   "source": [
    "import numpy as np\n",
    "\n",
    "unigram_count = sum(unigrams.values())\n",
    "bigram_count = sum(bigrams.values())\n",
    "\n",
    "\n",
    "def get_unigram_probability(unigram):\n",
    "    return unigrams[unigram] / unigram_count\n",
    "\n",
    "\n",
    "def get_bigram_probability(bigram):\n",
    "    return bigrams[bigram] / bigram_count\n",
    "\n",
    "\n",
    "def get_pmi(bigram):\n",
    "    x, y = bigram\n",
    "    return np.log(get_bigram_probability(bigram) / (get_unigram_probability(x) * get_unigram_probability(y)))\n"
   ]
  },
  {
   "cell_type": "code",
   "execution_count": 29,
   "metadata": {},
   "outputs": [],
   "source": [
    "bigrams_with_pmi = {\n",
    "    bigram: get_pmi(bigram) for bigram in bigrams\n",
    "}"
   ]
  },
  {
   "cell_type": "markdown",
   "metadata": {},
   "source": [
    "Posortuj bigramy względem malejącej wartości punktowej informacji wzajemnej. Przedstaw 30 pierwszych wyników.\n",
    "\n"
   ]
  },
  {
   "cell_type": "code",
   "execution_count": 30,
   "metadata": {},
   "outputs": [],
   "source": [
    "def sort_and_display(bigrams_with_values, top=30):\n",
    "    sorted_bigrams = sorted(\n",
    "        bigrams_with_values.items(),\n",
    "        key=lambda x: x[1],\n",
    "        reverse=True,\n",
    "    )\n",
    "\n",
    "    for bigram, score in sorted_bigrams[:top]:\n",
    "        print(\n",
    "            \"{} -> {} (count: {}) \".format(\n",
    "                \" \".join(bigram).ljust(35, \" \"), \n",
    "                str(score).ljust(20, \" \"), \n",
    "                bigrams[bigram],\n",
    "            ),\n",
    "        )\n"
   ]
  },
  {
   "cell_type": "code",
   "execution_count": 31,
   "metadata": {
    "scrolled": false
   },
   "outputs": [
    {
     "name": "stdout",
     "output_type": "stream",
     "text": [
      "domkowi fińskiemu                   -> 16.6181418079068     (count: 1) \n",
      "walnymi zgromadzeniami              -> 16.6181418079068     (count: 1) \n",
      "wykład inauguracyjny                -> 16.6181418079068     (count: 1) \n",
      "reiffeisenlandesbank oberosterreich -> 16.6181418079068     (count: 1) \n",
      "iur samuela                         -> 16.6181418079068     (count: 1) \n",
      "doprowa dzano                       -> 16.6181418079068     (count: 1) \n",
      "twier dzeniom                       -> 16.6181418079068     (count: 1) \n",
      "przewle kłość                       -> 16.6181418079068     (count: 1) \n",
      "wyni kłej                           -> 16.6181418079068     (count: 1) \n",
      "odszko dowania                      -> 16.6181418079068     (count: 1) \n",
      "naczyniopochodnymi zawrotami        -> 16.6181418079068     (count: 1) \n",
      "zawia domienia                      -> 16.6181418079068     (count: 1) \n",
      "pasierbica przysposobiony           -> 16.6181418079068     (count: 1) \n",
      "lota lotb                           -> 16.6181418079068     (count: 1) \n",
      "directly decisive                   -> 16.6181418079068     (count: 1) \n",
      "dostawiona dorysowana               -> 16.6181418079068     (count: 1) \n",
      "tole rancją                         -> 16.6181418079068     (count: 1) \n",
      "automatic lllumination              -> 16.6181418079068     (count: 1) \n",
      "migotanie przedsionków              -> 16.6181418079068     (count: 1) \n",
      "przedsionków głuchota               -> 16.6181418079068     (count: 1) \n",
      "termos zgrzewana                    -> 16.6181418079068     (count: 1) \n",
      "pięćdziesięciolecia hitlerowskiej   -> 16.6181418079068     (count: 1) \n",
      "zamęcie decyzyjno                   -> 16.6181418079068     (count: 1) \n",
      "wyma ganiom                         -> 16.6181418079068     (count: 1) \n",
      "kontrżądania matusza                -> 16.6181418079068     (count: 1) \n",
      "zachodniopomo rski                  -> 16.6181418079068     (count: 1) \n",
      "faber manusell                      -> 16.6181418079068     (count: 1) \n",
      "pniewo czerniuchy                   -> 16.6181418079068     (count: 1) \n",
      "czerniuchy regimin                  -> 16.6181418079068     (count: 1) \n",
      "zhu ekotrans                        -> 16.6181418079068     (count: 1) \n"
     ]
    }
   ],
   "source": [
    "sorted_bigrams = sort_and_display(bigrams_with_pmi)"
   ]
  },
  {
   "cell_type": "markdown",
   "metadata": {},
   "source": [
    "Korzystając z wzoru na statystykę logarytmiczną opartą o rozkład dwumienny (G2) sporządź analogiczną listę, jak dla punktowej informacji wzajemnej.\n"
   ]
  },
  {
   "cell_type": "code",
   "execution_count": 32,
   "metadata": {},
   "outputs": [],
   "source": [
    "import numpy as np\n",
    "\n",
    "\n",
    "def get_k(bigram):\n",
    "    bigram_occurrence_count = bigrams[bigram]\n",
    "    k_11 = bigram_occurrence_count\n",
    "    k_12 = unigrams[bigram[1]] - bigram_occurrence_count\n",
    "    k_21 = unigrams[bigram[0]] - bigram_occurrence_count\n",
    "    k_22 = bigram_count - k_11 - k_12 - k_21\n",
    "\n",
    "    return np.array(\n",
    "        [[k_11, k_12],\n",
    "         [k_21, k_22]]\n",
    "    )\n",
    "\n",
    "\n",
    "def H(k):\n",
    "    \"\"\"Count Shannon's entropy\"\"\"\n",
    "    N = np.sum(k)\n",
    "\n",
    "    return np.sum(k / N * np.log(k / N + (k == 0)))\n",
    "\n",
    "\n",
    "def get_llr(bigram):\n",
    "    k = get_k(bigram)\n",
    "    return 2 * np.sum(k) * (H(k) - H(k.sum(axis=0)) - H(k.sum(axis=1)))\n"
   ]
  },
  {
   "cell_type": "code",
   "execution_count": 33,
   "metadata": {},
   "outputs": [
    {
     "data": {
      "text/plain": [
       "277.5618696509106"
      ]
     },
     "execution_count": 33,
     "metadata": {},
     "output_type": "execute_result"
    }
   ],
   "source": [
    "get_llr((\"krwinek\", \"czerwonych\"))"
   ]
  },
  {
   "cell_type": "code",
   "execution_count": 34,
   "metadata": {},
   "outputs": [
    {
     "data": {
      "text/plain": [
       "35.23465738047877"
      ]
     },
     "execution_count": 34,
     "metadata": {},
     "output_type": "execute_result"
    }
   ],
   "source": [
    "get_llr((\"domkowi\", \"fińskiemu\"))"
   ]
  },
  {
   "cell_type": "code",
   "execution_count": 35,
   "metadata": {},
   "outputs": [
    {
     "name": "stderr",
     "output_type": "stream",
     "text": [
      "100%|██████████| 2613738/2613738 [02:43<00:00, 16000.16it/s]\n"
     ]
    }
   ],
   "source": [
    "bigrams_with_llr = {\n",
    "    bigram: get_llr(bigram) for bigram in tqdm(bigrams)\n",
    "}"
   ]
  },
  {
   "cell_type": "code",
   "execution_count": 36,
   "metadata": {},
   "outputs": [
    {
     "name": "stdout",
     "output_type": "stream",
     "text": [
      "art ust                             -> 738378.115228109     (count: 89625) \n",
      "z dnia                              -> 480345.94327007694   (count: 77407) \n",
      "k p                                 -> 360114.45700380555   (count: 40618) \n",
      "art k                               -> 338050.38946833083   (count: 52564) \n",
      "sygn akt                            -> 294216.4308285234    (count: 22212) \n",
      "nr poz                              -> 287670.8710603976    (count: 27653) \n",
      "na podstawie                        -> 273951.5590729033    (count: 34040) \n",
      "p c                                 -> 269163.7990452096    (count: 28932) \n",
      "dz u                                -> 248984.62267213906   (count: 19293) \n",
      "zamówień publicznych                -> 207931.3797994136    (count: 14477) \n",
      "ust pkt                             -> 206055.68988247524   (count: 27563) \n",
      "zgodnie z                           -> 177200.94076199437   (count: 26381) \n",
      "ustawy pzp                          -> 173852.66610368507   (count: 20273) \n",
      "w dniu                              -> 156878.6370598152    (count: 27400) \n",
      "ust ustawy                          -> 155030.18506856187   (count: 24310) \n",
      "sąd najwyższy                       -> 149612.910877317     (count: 13041) \n",
      "w postępowaniu                      -> 143520.31245880225   (count: 28721) \n",
      "związku z                           -> 140004.62184487897   (count: 21621) \n",
      "akt kio                             -> 134836.7231726395    (count: 11776) \n",
      "sp z                                -> 131131.11404932244   (count: 19636) \n",
      "stycznia r                          -> 128429.3863516336    (count: 14956) \n",
      "s a                                 -> 128256.26334107765   (count: 18617) \n",
      "sądu najwyższego                    -> 125802.9133314343    (count: 10594) \n",
      "udzielenie zamówienia               -> 125308.09373278893   (count: 11263) \n",
      "w sprawie                           -> 122681.26401521465   (count: 26965) \n",
      "sądu okręgowego                     -> 120896.08754680646   (count: 10208) \n",
      "sąd okręgowy                        -> 120479.5719763611    (count: 10639) \n",
      "w związku                           -> 119923.48941369262   (count: 21948) \n",
      "przez zamawiającego                 -> 118487.71932225212   (count: 18729) \n",
      "podstawie art                       -> 118028.50585842387   (count: 18929) \n"
     ]
    }
   ],
   "source": [
    "sort_and_display(bigrams_with_llr)"
   ]
  }
 ],
 "metadata": {
  "kernelspec": {
   "display_name": "Python 3",
   "language": "python",
   "name": "python3"
  },
  "language_info": {
   "codemirror_mode": {
    "name": "ipython",
    "version": 3
   },
   "file_extension": ".py",
   "mimetype": "text/x-python",
   "name": "python",
   "nbconvert_exporter": "python",
   "pygments_lexer": "ipython3",
   "version": "3.6.4"
  }
 },
 "nbformat": 4,
 "nbformat_minor": 2
}
