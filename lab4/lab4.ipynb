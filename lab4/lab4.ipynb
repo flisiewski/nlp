{
 "cells": [
  {
   "cell_type": "code",
   "execution_count": 41,
   "metadata": {},
   "outputs": [],
   "source": [
    "FILE_LIST = \"files.p\"\n",
    "DATA_DIR = \"/run/media/maciej/Nowy/data/json/\"\n",
    "CHOSEN_YEAR = \"2011\""
   ]
  },
  {
   "cell_type": "code",
   "execution_count": 42,
   "metadata": {},
   "outputs": [],
   "source": [
    "import regex\n",
    "word_pattern = \"\\p{Letter}+\""
   ]
  },
  {
   "cell_type": "markdown",
   "metadata": {},
   "source": [
    "Oblicz statystykę występowania bigramów słów, pomijając w tekście wszystkie wyrazy, które nie stanowią słów."
   ]
  },
  {
   "cell_type": "code",
   "execution_count": 43,
   "metadata": {},
   "outputs": [
    {
     "name": "stderr",
     "output_type": "stream",
     "text": [
      "100%|██████████| 68/68 [00:26<00:00,  2.55it/s]"
     ]
    },
    {
     "name": "stdout",
     "output_type": "stream",
     "text": [
      "2652972\n"
     ]
    },
    {
     "name": "stderr",
     "output_type": "stream",
     "text": [
      "\n"
     ]
    }
   ],
   "source": [
    "import os, json\n",
    "\n",
    "import pickle\n",
    "from tqdm import tqdm\n",
    "from collections import defaultdict\n",
    "\n",
    "bigrams = defaultdict(lambda: 0)\n",
    "\n",
    "def load_data():    \n",
    "    files = pickle.load(open(FILE_LIST, 'rb'))\n",
    "    for file in tqdm(files):\n",
    "        if file.startswith(\"judgment\"):\n",
    "            file_path = os.path.join(DATA_DIR, file)\n",
    "\n",
    "            with open(file_path, 'r') as f:\n",
    "                data = json.load(f)\n",
    "                judgments = [x[\"textContent\"] for x in data[\"items\"] if x[\"judgmentDate\"].startswith(CHOSEN_YEAR)]\n",
    "\n",
    "            previous_word = None\n",
    "            for judgment in judgments:\n",
    "                judgment = regex.sub(\"<.*?>\", \"\", judgment)\n",
    "                \n",
    "                for match in regex.finditer(word_pattern, judgment):\n",
    "                    [word] = match.captures()\n",
    "                    \n",
    "                    if previous_word:\n",
    "                        bigrams[(previous_word, word.lower())] += 1\n",
    "                    previous_word = word.lower()\n",
    "load_data()\n",
    "print(len(bigrams))"
   ]
  },
  {
   "cell_type": "markdown",
   "metadata": {},
   "source": [
    "Korzystając z wzoru na punktową informację wzajemną oblicz tę wartość dla wszystkich par słów. Wykorzystaj statystyki unigramów obliczone w poprzednim zadaniu."
   ]
  },
  {
   "cell_type": "code",
   "execution_count": 44,
   "metadata": {},
   "outputs": [],
   "source": [
    "word_file = \"words.p\"\n",
    "words = pickle.load(open(word_file, \"rb\"))\n",
    "unigrams = dict(words)"
   ]
  },
  {
   "cell_type": "code",
   "execution_count": 45,
   "metadata": {},
   "outputs": [],
   "source": [
    "unigram_count = sum(words_with_occurrences.values())\n",
    "bigram_count = sum(bigrams.values())\n",
    "\n",
    "def get_unigram_probability(unigram):\n",
    "    return unigrams[unigram] / unigram_count\n",
    "    \n",
    "def get_bigram_probability(bigram):\n",
    "    return bigrams[bigram] / bigram_count\n",
    "\n",
    "def get_pmi(bigram):\n",
    "    x, y = bigram\n",
    "    return get_bigram_probability(bigram) / (get_unigram_probability(x) + get_unigram_probability(y))"
   ]
  },
  {
   "cell_type": "code",
   "execution_count": 46,
   "metadata": {},
   "outputs": [],
   "source": [
    "bigrams_with_pmi = {\n",
    "    bigram: get_pmi(bigram) for bigram in bigrams.keys()\n",
    "}"
   ]
  },
  {
   "cell_type": "markdown",
   "metadata": {},
   "source": [
    "Posortuj bigramy względem malejącej wartości punktowej informacji wzajemnej. Przedstaw 30 pierwszych wyników.\n",
    "\n"
   ]
  },
  {
   "cell_type": "code",
   "execution_count": 57,
   "metadata": {
    "scrolled": false
   },
   "outputs": [
    {
     "name": "stdout",
     "output_type": "stream",
     "text": [
      "domel jasińska                           -> 0.42586037888861406\n",
      "lorenc kociubińskiej                     -> 0.42586037888861406\n",
      "sławomiry wronkowskiej                   -> 0.42586037888861406\n",
      "powen wafapomp                           -> 0.42586037888861406\n",
      "sprężynowych pachołków                   -> 0.42586037888861406\n",
      "addon stdtoplus                          -> 0.42586037888861406\n",
      "sobiesława sowę                          -> 0.42586037888861406\n",
      "obrascon huarte                          -> 0.42586037888861406\n",
      "huarte lain                              -> 0.42586037888861406\n",
      "krwinek czerwonych                       -> 0.42586037888861406\n",
      "tłuczniowych grysem                      -> 0.42586037888861406\n",
      "spoiw anhydrytowych                      -> 0.42586037888861406\n",
      "borne sulinowo                           -> 0.42586037888861406\n",
      "sudeckiej dywizji                        -> 0.42586037888861406\n",
      "kocich łbów                              -> 0.42586037888861406\n",
      "fišer rekonstrucke                       -> 0.42586037888861406\n",
      "barcice drwalewskie                      -> 0.42586037888861406\n",
      "domkowi fińskiemu                        -> 0.425860378888614\n",
      "walnymi zgromadzeniami                   -> 0.425860378888614\n",
      "clin bath                                -> 0.425860378888614\n",
      "rilan creme                              -> 0.425860378888614\n",
      "radzikowski szubielska                   -> 0.425860378888614\n",
      "domański zakrzewski                      -> 0.425860378888614\n",
      "zakrzewski palinka                       -> 0.425860378888614\n",
      "traconego dezorganizacji                 -> 0.425860378888614\n",
      "energomon taż                            -> 0.425860378888614\n",
      "reiffeisenlandesbank oberosterreich      -> 0.425860378888614\n",
      "brněnská rosice                          -> 0.425860378888614\n",
      "iur samuela                              -> 0.425860378888614\n",
      "sna appn                                 -> 0.425860378888614\n"
     ]
    }
   ],
   "source": [
    "from pprint import pprint\n",
    "sorted_pmis = sorted(\n",
    "    bigrams_with_pmi.items(), \n",
    "    key=lambda x: x[1], \n",
    "    reverse=True,\n",
    ")\n",
    "\n",
    "for bigram, score in sorted_pmis[:30]:\n",
    "    print(\"{} -> {}\".format(\" \".join(bigram).ljust(40, \" \"), score))\n"
   ]
  },
  {
   "cell_type": "code",
   "execution_count": null,
   "metadata": {},
   "outputs": [],
   "source": []
  },
  {
   "cell_type": "code",
   "execution_count": null,
   "metadata": {},
   "outputs": [],
   "source": []
  },
  {
   "cell_type": "code",
   "execution_count": null,
   "metadata": {},
   "outputs": [],
   "source": []
  },
  {
   "cell_type": "code",
   "execution_count": null,
   "metadata": {},
   "outputs": [],
   "source": []
  },
  {
   "cell_type": "code",
   "execution_count": null,
   "metadata": {},
   "outputs": [],
   "source": []
  }
 ],
 "metadata": {
  "kernelspec": {
   "display_name": "Python 3",
   "language": "python",
   "name": "python3"
  },
  "language_info": {
   "codemirror_mode": {
    "name": "ipython",
    "version": 3
   },
   "file_extension": ".py",
   "mimetype": "text/x-python",
   "name": "python",
   "nbconvert_exporter": "python",
   "pygments_lexer": "ipython3",
   "version": "3.6.4"
  }
 },
 "nbformat": 4,
 "nbformat_minor": 2
}
