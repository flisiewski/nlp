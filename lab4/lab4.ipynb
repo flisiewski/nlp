{
 "cells": [
  {
   "cell_type": "code",
   "execution_count": 86,
   "metadata": {},
   "outputs": [],
   "source": [
    "FILE_LIST = \"files.p\"\n",
    "DATA_DIR = \"/run/media/maciej/Nowy/data/json/\"\n",
    "CHOSEN_YEAR = \"2011\""
   ]
  },
  {
   "cell_type": "code",
   "execution_count": 87,
   "metadata": {},
   "outputs": [],
   "source": [
    "import regex\n",
    "word_pattern = \"\\p{Letter}+\""
   ]
  },
  {
   "cell_type": "markdown",
   "metadata": {},
   "source": [
    "Oblicz statystykę występowania bigramów słów, pomijając w tekście wszystkie wyrazy, które nie stanowią słów."
   ]
  },
  {
   "cell_type": "code",
   "execution_count": 136,
   "metadata": {},
   "outputs": [
    {
     "name": "stderr",
     "output_type": "stream",
     "text": [
      "100%|██████████| 68/68 [00:33<00:00,  2.03it/s]"
     ]
    },
    {
     "name": "stdout",
     "output_type": "stream",
     "text": [
      "2613738\n"
     ]
    },
    {
     "name": "stderr",
     "output_type": "stream",
     "text": [
      "\n"
     ]
    }
   ],
   "source": [
    "import os, json\n",
    "\n",
    "import pickle\n",
    "from tqdm import tqdm\n",
    "from collections import defaultdict\n",
    "\n",
    "bigrams = defaultdict(lambda: 0)\n",
    "unigrams = defaultdict(lambda: 0)\n",
    "\n",
    "def load_data():    \n",
    "    files = pickle.load(open(FILE_LIST, 'rb'))\n",
    "    for file in tqdm(files):\n",
    "        if file.startswith(\"judgment\"):\n",
    "            file_path = os.path.join(DATA_DIR, file)\n",
    "\n",
    "            with open(file_path, 'r') as f:\n",
    "                data = json.load(f)\n",
    "                judgments = [x[\"textContent\"] for x in data[\"items\"] if x[\"judgmentDate\"].startswith(CHOSEN_YEAR)]\n",
    "\n",
    "            for judgment in judgments:\n",
    "                previous_word = None\n",
    "\n",
    "                judgment = regex.sub(\"<.*?>\", \"\", judgment)\n",
    "                judgment = regex.sub(\"-\\n(\\p{Letter}+)\", r\"\\1\", judgment)\n",
    "                \n",
    "                for match in regex.finditer(word_pattern, judgment):\n",
    "                    [word] = match.captures()\n",
    "                    \n",
    "                    \n",
    "                    if previous_word:\n",
    "                        bigrams[(previous_word, word.lower())] += 1\n",
    "                    unigrams[word.lower()] += 1\n",
    "                    \n",
    "                    previous_word = word.lower()\n",
    "load_data()\n",
    "print(len(bigrams))"
   ]
  },
  {
   "cell_type": "markdown",
   "metadata": {},
   "source": [
    "Korzystając z wzoru na punktową informację wzajemną oblicz tę wartość dla wszystkich par słów. Wykorzystaj statystyki unigramów obliczone w poprzednim zadaniu."
   ]
  },
  {
   "cell_type": "code",
   "execution_count": 128,
   "metadata": {},
   "outputs": [],
   "source": [
    "# word_file = \"words.p\"\n",
    "# words = pickle.load(open(word_file, \"rb\"))\n",
    "# unigrams = dict(words)"
   ]
  },
  {
   "cell_type": "code",
   "execution_count": 141,
   "metadata": {},
   "outputs": [],
   "source": [
    "import numpy as np\n",
    "\n",
    "unigram_count = sum(unigrams.values())\n",
    "bigram_count = sum(bigrams.values())\n",
    "\n",
    "def get_unigram_probability(unigram):\n",
    "    return unigrams[unigram] / unigram_count\n",
    "\n",
    "def get_bigram_probability(bigram):\n",
    "    return bigrams[bigram] / bigram_count\n",
    "\n",
    "def get_pmi(bigram):\n",
    "    x, y = bigram\n",
    "    return np.log(get_bigram_probability(bigram) / (get_unigram_probability(x) * get_unigram_probability(y)))"
   ]
  },
  {
   "cell_type": "code",
   "execution_count": 143,
   "metadata": {},
   "outputs": [],
   "source": [
    "bigrams_with_pmi = {\n",
    "    bigram: get_pmi(bigram) for bigram in bigrams\n",
    "}"
   ]
  },
  {
   "cell_type": "markdown",
   "metadata": {},
   "source": [
    "Posortuj bigramy względem malejącej wartości punktowej informacji wzajemnej. Przedstaw 30 pierwszych wyników.\n",
    "\n"
   ]
  },
  {
   "cell_type": "code",
   "execution_count": 154,
   "metadata": {},
   "outputs": [],
   "source": [
    "def sort_and_display(bigrams_with_values, top=30):\n",
    "    sorted_bigrams = sorted(\n",
    "        bigrams_with_values.items(), \n",
    "        key=lambda x: x[1], \n",
    "        reverse=True,\n",
    "    )\n",
    "    \n",
    "    for bigram, score in sorted_bigrams[:30]:\n",
    "        print(\"{} -> {}\".format(\" \".join(bigram).ljust(40, \" \"), score))\n"
   ]
  },
  {
   "cell_type": "code",
   "execution_count": 155,
   "metadata": {
    "scrolled": false
   },
   "outputs": [
    {
     "name": "stdout",
     "output_type": "stream",
     "text": [
      "domkowi fińskiemu                        -> 16.6181418079068\n",
      "walnymi zgromadzeniami                   -> 16.6181418079068\n",
      "wykład inauguracyjny                     -> 16.6181418079068\n",
      "reiffeisenlandesbank oberosterreich      -> 16.6181418079068\n",
      "iur samuela                              -> 16.6181418079068\n",
      "doprowa dzano                            -> 16.6181418079068\n",
      "twier dzeniom                            -> 16.6181418079068\n",
      "przewle kłość                            -> 16.6181418079068\n",
      "wyni kłej                                -> 16.6181418079068\n",
      "odszko dowania                           -> 16.6181418079068\n",
      "naczyniopochodnymi zawrotami             -> 16.6181418079068\n",
      "zawia domienia                           -> 16.6181418079068\n",
      "pasierbica przysposobiony                -> 16.6181418079068\n",
      "lota lotb                                -> 16.6181418079068\n",
      "directly decisive                        -> 16.6181418079068\n",
      "dostawiona dorysowana                    -> 16.6181418079068\n",
      "tole rancją                              -> 16.6181418079068\n",
      "automatic lllumination                   -> 16.6181418079068\n",
      "migotanie przedsionków                   -> 16.6181418079068\n",
      "przedsionków głuchota                    -> 16.6181418079068\n",
      "termos zgrzewana                         -> 16.6181418079068\n",
      "pięćdziesięciolecia hitlerowskiej        -> 16.6181418079068\n",
      "zamęcie decyzyjno                        -> 16.6181418079068\n",
      "wyma ganiom                              -> 16.6181418079068\n",
      "kontrżądania matusza                     -> 16.6181418079068\n",
      "zachodniopomo rski                       -> 16.6181418079068\n",
      "faber manusell                           -> 16.6181418079068\n",
      "pniewo czerniuchy                        -> 16.6181418079068\n",
      "czerniuchy regimin                       -> 16.6181418079068\n",
      "zhu ekotrans                             -> 16.6181418079068\n"
     ]
    }
   ],
   "source": [
    "sort_and_display(bigrams_with_pmi)\n"
   ]
  },
  {
   "cell_type": "markdown",
   "metadata": {},
   "source": [
    "Korzystając z wzoru na statystykę logarytmiczną opartą o rozkład dwumienny (G2) sporządź analogiczną listę, jak dla punktowej informacji wzajemnej.\n"
   ]
  },
  {
   "cell_type": "code",
   "execution_count": 153,
   "metadata": {},
   "outputs": [],
   "source": [
    "import numpy as np\n",
    "\n",
    "def get_k(bigram):\n",
    "    k_11 = bigrams[bigram]\n",
    "    k_12 = unigrams[bigram[1]]\n",
    "    k_21 = unigrams[bigram[0]]\n",
    "    k_22 = bigram_count - k_11 - k_12 - k_21\n",
    "    \n",
    "    return np.array(\n",
    "        [[k_11, k_12],\n",
    "         [k_21, k_22]]\n",
    "    )\n",
    "\n",
    "def H(k):\n",
    "    \"\"\"Count Shannon's entropy\"\"\"\n",
    "    N = np.sum(k)\n",
    "    \n",
    "    return np.sum(k/N * np.log(k/N + (k== 0)))\n",
    "    \n",
    "def get_llr(bigram):\n",
    "    k = get_k(bigram)\n",
    "    return 2 * np.sum(k) * (H(k) - H(k.sum(axis=0)) -H(k.sum(axis=1)))"
   ]
  },
  {
   "cell_type": "code",
   "execution_count": 150,
   "metadata": {},
   "outputs": [
    {
     "data": {
      "text/plain": [
       "227.65528248394048"
      ]
     },
     "execution_count": 150,
     "metadata": {},
     "output_type": "execute_result"
    }
   ],
   "source": [
    "get_llr((\"krwinek\", \"czerwonych\"))"
   ]
  },
  {
   "cell_type": "code",
   "execution_count": 152,
   "metadata": {},
   "outputs": [
    {
     "name": "stderr",
     "output_type": "stream",
     "text": [
      "100%|██████████| 2613738/2613738 [02:23<00:00, 18226.14it/s]\n"
     ]
    }
   ],
   "source": [
    "# Dict comprehension switched with tqdm loop in order to watch the progress\n",
    "# bigrams_with_llr = {\n",
    "#     bigram: get_llr(bigram) for bigram in bigrams\n",
    "# }\n",
    "\n",
    "bigrams_with_llr = {}\n",
    "for bigram in tqdm(bigrams):\n",
    "    bigrams_with_llr[bigram] = get_llr(bigram)\n"
   ]
  },
  {
   "cell_type": "code",
   "execution_count": 156,
   "metadata": {},
   "outputs": [
    {
     "name": "stdout",
     "output_type": "stream",
     "text": [
      "art ust                                  -> 482467.2308204672\n",
      "z dnia                                   -> 311233.5602716225\n",
      "k p                                      -> 265786.0055493093\n",
      "art k                                    -> 254143.54965792052\n",
      "nr poz                                   -> 213003.3228910818\n",
      "p c                                      -> 206885.91223860395\n",
      "sygn akt                                 -> 204801.9598722935\n",
      "na podstawie                             -> 183946.53717840125\n",
      "dz u                                     -> 175771.27731131375\n",
      "ust pkt                                  -> 164710.64579160677\n",
      "zamówień publicznych                     -> 146950.32564421277\n",
      "ustawy pzp                               -> 139073.39478404194\n",
      "ust ustawy                               -> 128865.58664232567\n",
      "zgodnie z                                -> 113659.92919161117\n",
      "sąd najwyższy                            -> 108129.61550581329\n",
      "akt kio                                  -> 107224.54771337502\n",
      "s a                                      -> 106237.68544633506\n",
      "przez zamawiającego                      -> 98262.52302477772\n",
      "udzielenie zamówienia                    -> 95691.67758186121\n",
      "podstawie art                            -> 94133.4050651501\n",
      "sądu najwyższego                         -> 92727.20434560032\n",
      "stycznia r                               -> 92238.33084295178\n",
      "związku z                                -> 92103.26669441392\n",
      "prawo zamówień                           -> 92046.91500249163\n",
      "w dniu                                   -> 91083.53713309427\n",
      "w postępowaniu                           -> 89710.29609132485\n",
      "sądu okręgowego                          -> 89388.46188602904\n",
      "sąd okręgowy                             -> 88450.3047175117\n",
      "ze zm                                    -> 88390.52324516785\n",
      "sp z                                     -> 84776.43908910632\n"
     ]
    }
   ],
   "source": [
    "sort_and_display(bigrams_with_llr)"
   ]
  }
 ],
 "metadata": {
  "kernelspec": {
   "display_name": "Python 3",
   "language": "python",
   "name": "python3"
  },
  "language_info": {
   "codemirror_mode": {
    "name": "ipython",
    "version": 3
   },
   "file_extension": ".py",
   "mimetype": "text/x-python",
   "name": "python",
   "nbconvert_exporter": "python",
   "pygments_lexer": "ipython3",
   "version": "3.6.4"
  }
 },
 "nbformat": 4,
 "nbformat_minor": 2
}
